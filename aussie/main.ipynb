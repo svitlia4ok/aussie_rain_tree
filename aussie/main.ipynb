{
 "cells": [
  {
   "cell_type": "code",
   "execution_count": 3,
   "metadata": {},
   "outputs": [
    {
     "name": "stdout",
     "output_type": "stream",
     "text": [
      "Collecting fancyimpute\n",
      "  Using cached fancyimpute-0.7.0-py3-none-any.whl\n",
      "Collecting knnimpute>=0.1.0 (from fancyimpute)\n",
      "  Using cached knnimpute-0.1.0-py3-none-any.whl\n",
      "Requirement already satisfied: scikit-learn>=0.24.2 in /Users/olgamordachova/PycharmProjects/pythonProject/.venv/lib/python3.9/site-packages (from fancyimpute) (1.5.2)\n",
      "Collecting cvxpy (from fancyimpute)\n",
      "  Using cached cvxpy-1.5.3-cp39-cp39-macosx_10_9_universal2.whl.metadata (8.8 kB)\n",
      "Collecting cvxopt (from fancyimpute)\n",
      "  Using cached cvxopt-1.3.2-cp39-cp39-macosx_11_0_arm64.whl.metadata (1.3 kB)\n",
      "Collecting pytest (from fancyimpute)\n",
      "  Using cached pytest-8.3.3-py3-none-any.whl.metadata (7.5 kB)\n",
      "Collecting nose (from fancyimpute)\n",
      "  Using cached nose-1.3.7-py3-none-any.whl.metadata (1.7 kB)\n",
      "Requirement already satisfied: six in /Users/olgamordachova/PycharmProjects/pythonProject/.venv/lib/python3.9/site-packages (from knnimpute>=0.1.0->fancyimpute) (1.16.0)\n",
      "Requirement already satisfied: numpy>=1.10 in /Users/olgamordachova/PycharmProjects/pythonProject/.venv/lib/python3.9/site-packages (from knnimpute>=0.1.0->fancyimpute) (1.26.4)\n",
      "Requirement already satisfied: scipy>=1.6.0 in /Users/olgamordachova/PycharmProjects/pythonProject/.venv/lib/python3.9/site-packages (from scikit-learn>=0.24.2->fancyimpute) (1.13.1)\n",
      "Requirement already satisfied: joblib>=1.2.0 in /Users/olgamordachova/PycharmProjects/pythonProject/.venv/lib/python3.9/site-packages (from scikit-learn>=0.24.2->fancyimpute) (1.4.2)\n",
      "Requirement already satisfied: threadpoolctl>=3.1.0 in /Users/olgamordachova/PycharmProjects/pythonProject/.venv/lib/python3.9/site-packages (from scikit-learn>=0.24.2->fancyimpute) (3.5.0)\n",
      "Collecting osqp>=0.6.2 (from cvxpy->fancyimpute)\n",
      "  Using cached osqp-0.6.7.post3-cp39-cp39-macosx_11_0_arm64.whl.metadata (1.9 kB)\n",
      "Collecting ecos>=2 (from cvxpy->fancyimpute)\n",
      "  Using cached ecos-2.0.14.tar.gz (142 kB)\n",
      "  Installing build dependencies ... \u001b[?25ldone\n",
      "\u001b[?25h  Getting requirements to build wheel ... \u001b[?25ldone\n",
      "\u001b[?25h  Preparing metadata (pyproject.toml) ... \u001b[?25ldone\n",
      "\u001b[?25hCollecting clarabel>=0.5.0 (from cvxpy->fancyimpute)\n",
      "  Using cached clarabel-0.9.0-cp37-abi3-macosx_10_12_x86_64.macosx_11_0_arm64.macosx_10_12_universal2.whl.metadata (4.8 kB)\n",
      "Collecting scs>=3.2.4.post1 (from cvxpy->fancyimpute)\n",
      "  Using cached scs-3.2.7-cp39-cp39-macosx_11_0_arm64.whl.metadata (2.1 kB)\n",
      "Collecting iniconfig (from pytest->fancyimpute)\n",
      "  Using cached iniconfig-2.0.0-py3-none-any.whl.metadata (2.6 kB)\n",
      "Requirement already satisfied: packaging in /Users/olgamordachova/PycharmProjects/pythonProject/.venv/lib/python3.9/site-packages (from pytest->fancyimpute) (24.0)\n",
      "Collecting pluggy<2,>=1.5 (from pytest->fancyimpute)\n",
      "  Using cached pluggy-1.5.0-py3-none-any.whl.metadata (4.8 kB)\n",
      "Requirement already satisfied: exceptiongroup>=1.0.0rc8 in /Users/olgamordachova/PycharmProjects/pythonProject/.venv/lib/python3.9/site-packages (from pytest->fancyimpute) (1.2.2)\n",
      "Collecting tomli>=1 (from pytest->fancyimpute)\n",
      "  Using cached tomli-2.0.2-py3-none-any.whl.metadata (10.0 kB)\n",
      "Collecting qdldl (from osqp>=0.6.2->cvxpy->fancyimpute)\n",
      "  Using cached qdldl-0.1.7.post4-cp39-cp39-macosx_11_0_arm64.whl.metadata (1.7 kB)\n",
      "Using cached cvxopt-1.3.2-cp39-cp39-macosx_11_0_arm64.whl (11.1 MB)\n",
      "Using cached cvxpy-1.5.3-cp39-cp39-macosx_10_9_universal2.whl (1.4 MB)\n",
      "Using cached nose-1.3.7-py3-none-any.whl (154 kB)\n",
      "Using cached pytest-8.3.3-py3-none-any.whl (342 kB)\n",
      "Using cached clarabel-0.9.0-cp37-abi3-macosx_10_12_x86_64.macosx_11_0_arm64.macosx_10_12_universal2.whl (1.7 MB)\n",
      "Using cached osqp-0.6.7.post3-cp39-cp39-macosx_11_0_arm64.whl (237 kB)\n",
      "Using cached pluggy-1.5.0-py3-none-any.whl (20 kB)\n",
      "Using cached scs-3.2.7-cp39-cp39-macosx_11_0_arm64.whl (93 kB)\n",
      "Using cached tomli-2.0.2-py3-none-any.whl (13 kB)\n",
      "Using cached iniconfig-2.0.0-py3-none-any.whl (5.9 kB)\n",
      "Using cached qdldl-0.1.7.post4-cp39-cp39-macosx_11_0_arm64.whl (98 kB)\n",
      "Building wheels for collected packages: ecos\n",
      "  Building wheel for ecos (pyproject.toml) ... \u001b[?25lerror\n",
      "  \u001b[1;31merror\u001b[0m: \u001b[1msubprocess-exited-with-error\u001b[0m\n",
      "  \n",
      "  \u001b[31m×\u001b[0m \u001b[32mBuilding wheel for ecos \u001b[0m\u001b[1;32m(\u001b[0m\u001b[32mpyproject.toml\u001b[0m\u001b[1;32m)\u001b[0m did not run successfully.\n",
      "  \u001b[31m│\u001b[0m exit code: \u001b[1;36m1\u001b[0m\n",
      "  \u001b[31m╰─>\u001b[0m \u001b[31m[180 lines of output]\u001b[0m\n",
      "  \u001b[31m   \u001b[0m /private/var/folders/2z/b500qw6s6cx6j167ynb3767c0000gn/T/pip-build-env-ocx0fnwg/overlay/lib/python3.9/site-packages/setuptools/_distutils/dist.py:261: UserWarning: Unknown distribution option: 'tests_require'\n",
      "  \u001b[31m   \u001b[0m   warnings.warn(msg)\n",
      "  \u001b[31m   \u001b[0m running bdist_wheel\n",
      "  \u001b[31m   \u001b[0m running build\n",
      "  \u001b[31m   \u001b[0m running build_py\n",
      "  \u001b[31m   \u001b[0m creating build/lib.macosx-10.9-universal2-cpython-39/ecos\n",
      "  \u001b[31m   \u001b[0m copying src/ecos/version.py -> build/lib.macosx-10.9-universal2-cpython-39/ecos\n",
      "  \u001b[31m   \u001b[0m copying src/ecos/__init__.py -> build/lib.macosx-10.9-universal2-cpython-39/ecos\n",
      "  \u001b[31m   \u001b[0m copying src/ecos/ecos.py -> build/lib.macosx-10.9-universal2-cpython-39/ecos\n",
      "  \u001b[31m   \u001b[0m running build_ext\n",
      "  \u001b[31m   \u001b[0m building '_ecos' extension\n",
      "  \u001b[31m   \u001b[0m creating build/temp.macosx-10.9-universal2-cpython-39/ecos/ecos_bb\n",
      "  \u001b[31m   \u001b[0m creating build/temp.macosx-10.9-universal2-cpython-39/ecos/external/amd/src\n",
      "  \u001b[31m   \u001b[0m creating build/temp.macosx-10.9-universal2-cpython-39/ecos/external/ldl/src\n",
      "  \u001b[31m   \u001b[0m creating build/temp.macosx-10.9-universal2-cpython-39/ecos/src\n",
      "  \u001b[31m   \u001b[0m creating build/temp.macosx-10.9-universal2-cpython-39/src\n",
      "  \u001b[31m   \u001b[0m arm64-apple-darwin20.0.0-clang -Wno-unused-result -Wsign-compare -Wunreachable-code -fno-common -dynamic -DNDEBUG -g -fwrapv -O3 -Wall -iwithsysroot/System/Library/Frameworks/System.framework/PrivateHeaders -iwithsysroot/Applications/Xcode.app/Contents/Developer/Library/Frameworks/Python3.framework/Versions/3.9/Headers -arch arm64 -arch x86_64 -Werror=implicit-function-declaration -Wno-error=unreachable-code -ftree-vectorize -fPIC -fPIE -fstack-protector-strong -O2 -pipe -isystem /opt/anaconda3/include -D_FORTIFY_SOURCE=2 -isystem /opt/anaconda3/include -DPYTHON -DDLONG -DLDL_LONG -DCTRLC=1 -Iecos/include -Iecos/external/amd/include -Iecos/external/ldl/include -Iecos/external/SuiteSparse_config -I/Users/olgamordachova/PycharmProjects/pythonProject/.venv/include -I/Library/Developer/CommandLineTools/Library/Frameworks/Python3.framework/Versions/3.9/include/python3.9 -I/private/var/folders/2z/b500qw6s6cx6j167ynb3767c0000gn/T/pip-build-env-ocx0fnwg/overlay/lib/python3.9/site-packages/numpy/_core/include -c ecos/ecos_bb/ecos_bb.c -o build/temp.macosx-10.9-universal2-cpython-39/ecos/ecos_bb/ecos_bb.o\n",
      "  \u001b[31m   \u001b[0m ecos/ecos_bb/ecos_bb.c:543:12: warning: variable 'best_q_down' set but not used [-Wunused-but-set-variable]\n",
      "  \u001b[31m   \u001b[0m     pfloat best_q_down = 0.0, best_q_up = 0.0;\n",
      "  \u001b[31m   \u001b[0m            ^\n",
      "  \u001b[31m   \u001b[0m ecos/ecos_bb/ecos_bb.c:543:31: warning: variable 'best_q_up' set but not used [-Wunused-but-set-variable]\n",
      "  \u001b[31m   \u001b[0m     pfloat best_q_down = 0.0, best_q_up = 0.0;\n",
      "  \u001b[31m   \u001b[0m                               ^\n",
      "  \u001b[31m   \u001b[0m ecos/ecos_bb/ecos_bb.c:46:13: warning: unused function 'print_ecos_solution' [-Wunused-function]\n",
      "  \u001b[31m   \u001b[0m static void print_ecos_solution(ecos_bb_pwork *prob)\n",
      "  \u001b[31m   \u001b[0m             ^\n",
      "  \u001b[31m   \u001b[0m ecos/ecos_bb/ecos_bb.c:55:13: warning: unused function 'print_ecos_xequil' [-Wunused-function]\n",
      "  \u001b[31m   \u001b[0m static void print_ecos_xequil(ecos_bb_pwork *prob)\n",
      "  \u001b[31m   \u001b[0m             ^\n",
      "  \u001b[31m   \u001b[0m ecos/ecos_bb/ecos_bb.c:68:13: warning: unused function 'print_ecos_h' [-Wunused-function]\n",
      "  \u001b[31m   \u001b[0m static void print_ecos_h(ecos_bb_pwork *prob)\n",
      "  \u001b[31m   \u001b[0m             ^\n",
      "  \u001b[31m   \u001b[0m ecos/ecos_bb/ecos_bb.c:77:13: warning: unused function 'print_ecos_c' [-Wunused-function]\n",
      "  \u001b[31m   \u001b[0m static void print_ecos_c(ecos_bb_pwork *prob)\n",
      "  \u001b[31m   \u001b[0m             ^\n",
      "  \u001b[31m   \u001b[0m ecos/ecos_bb/ecos_bb.c:86:13: warning: unused function 'print_node' [-Wunused-function]\n",
      "  \u001b[31m   \u001b[0m static void print_node(ecos_bb_pwork *prob, idxint i)\n",
      "  \u001b[31m   \u001b[0m             ^\n",
      "  \u001b[31m   \u001b[0m ecos/ecos_bb/ecos_bb.c:112:13: warning: unused function 'print_stats' [-Wunused-function]\n",
      "  \u001b[31m   \u001b[0m static void print_stats(ecos_bb_pwork *prob)\n",
      "  \u001b[31m   \u001b[0m             ^\n",
      "  \u001b[31m   \u001b[0m 8 warnings generated.\n",
      "  \u001b[31m   \u001b[0m ecos/ecos_bb/ecos_bb.c:543:12: warning: variable 'best_q_down' set but not used [-Wunused-but-set-variable]\n",
      "  \u001b[31m   \u001b[0m     pfloat best_q_down = 0.0, best_q_up = 0.0;\n",
      "  \u001b[31m   \u001b[0m            ^\n",
      "  \u001b[31m   \u001b[0m ecos/ecos_bb/ecos_bb.c:543:31: warning: variable 'best_q_up' set but not used [-Wunused-but-set-variable]\n",
      "  \u001b[31m   \u001b[0m     pfloat best_q_down = 0.0, best_q_up = 0.0;\n",
      "  \u001b[31m   \u001b[0m                               ^\n",
      "  \u001b[31m   \u001b[0m ecos/ecos_bb/ecos_bb.c:46:13: warning: unused function 'print_ecos_solution' [-Wunused-function]\n",
      "  \u001b[31m   \u001b[0m static void print_ecos_solution(ecos_bb_pwork *prob)\n",
      "  \u001b[31m   \u001b[0m             ^\n",
      "  \u001b[31m   \u001b[0m ecos/ecos_bb/ecos_bb.c:55:13: warning: unused function 'print_ecos_xequil' [-Wunused-function]\n",
      "  \u001b[31m   \u001b[0m static void print_ecos_xequil(ecos_bb_pwork *prob)\n",
      "  \u001b[31m   \u001b[0m             ^\n",
      "  \u001b[31m   \u001b[0m ecos/ecos_bb/ecos_bb.c:68:13: warning: unused function 'print_ecos_h' [-Wunused-function]\n",
      "  \u001b[31m   \u001b[0m static void print_ecos_h(ecos_bb_pwork *prob)\n",
      "  \u001b[31m   \u001b[0m             ^\n",
      "  \u001b[31m   \u001b[0m ecos/ecos_bb/ecos_bb.c:77:13: warning: unused function 'print_ecos_c' [-Wunused-function]\n",
      "  \u001b[31m   \u001b[0m static void print_ecos_c(ecos_bb_pwork *prob)\n",
      "  \u001b[31m   \u001b[0m             ^\n",
      "  \u001b[31m   \u001b[0m ecos/ecos_bb/ecos_bb.c:86:13: warning: unused function 'print_node' [-Wunused-function]\n",
      "  \u001b[31m   \u001b[0m static void print_node(ecos_bb_pwork *prob, idxint i)\n",
      "  \u001b[31m   \u001b[0m             ^\n",
      "  \u001b[31m   \u001b[0m ecos/ecos_bb/ecos_bb.c:112:13: warning: unused function 'print_stats' [-Wunused-function]\n",
      "  \u001b[31m   \u001b[0m static void print_stats(ecos_bb_pwork *prob)\n",
      "  \u001b[31m   \u001b[0m             ^\n",
      "  \u001b[31m   \u001b[0m 8 warnings generated.\n",
      "  \u001b[31m   \u001b[0m arm64-apple-darwin20.0.0-clang -Wno-unused-result -Wsign-compare -Wunreachable-code -fno-common -dynamic -DNDEBUG -g -fwrapv -O3 -Wall -iwithsysroot/System/Library/Frameworks/System.framework/PrivateHeaders -iwithsysroot/Applications/Xcode.app/Contents/Developer/Library/Frameworks/Python3.framework/Versions/3.9/Headers -arch arm64 -arch x86_64 -Werror=implicit-function-declaration -Wno-error=unreachable-code -ftree-vectorize -fPIC -fPIE -fstack-protector-strong -O2 -pipe -isystem /opt/anaconda3/include -D_FORTIFY_SOURCE=2 -isystem /opt/anaconda3/include -DPYTHON -DDLONG -DLDL_LONG -DCTRLC=1 -Iecos/include -Iecos/external/amd/include -Iecos/external/ldl/include -Iecos/external/SuiteSparse_config -I/Users/olgamordachova/PycharmProjects/pythonProject/.venv/include -I/Library/Developer/CommandLineTools/Library/Frameworks/Python3.framework/Versions/3.9/include/python3.9 -I/private/var/folders/2z/b500qw6s6cx6j167ynb3767c0000gn/T/pip-build-env-ocx0fnwg/overlay/lib/python3.9/site-packages/numpy/_core/include -c ecos/ecos_bb/ecos_bb_preproc.c -o build/temp.macosx-10.9-universal2-cpython-39/ecos/ecos_bb/ecos_bb_preproc.o\n",
      "  \u001b[31m   \u001b[0m In file included from ecos/ecos_bb/ecos_bb_preproc.c:30:\n",
      "  \u001b[31m   \u001b[0m ecos/include/ecos_bb.h:205:15: warning: unused function 'get_bool_node_id' [-Wunused-function]\n",
      "  \u001b[31m   \u001b[0m         static char *get_bool_node_id(idxint idx, ecos_bb_pwork *prob)\n",
      "  \u001b[31m   \u001b[0m                      ^\n",
      "  \u001b[31m   \u001b[0m ecos/include/ecos_bb.h:210:17: warning: unused function 'get_int_node_id' [-Wunused-function]\n",
      "  \u001b[31m   \u001b[0m         static pfloat *get_int_node_id(idxint idx, ecos_bb_pwork *prob)\n",
      "  \u001b[31m   \u001b[0m                        ^\n",
      "  \u001b[31m   \u001b[0m ecos/include/ecos_bb.h:220:16: warning: unused function 'pfloat_round' [-Wunused-function]\n",
      "  \u001b[31m   \u001b[0m         static pfloat pfloat_round(pfloat number)\n",
      "  \u001b[31m   \u001b[0m                       ^\n",
      "  \u001b[31m   \u001b[0m ecos/include/ecos_bb.h:225:16: warning: unused function 'pfloat_ceil' [-Wunused-function]\n",
      "  \u001b[31m   \u001b[0m         static pfloat pfloat_ceil(pfloat number, pfloat integer_tol)\n",
      "  \u001b[31m   \u001b[0m                       ^\n",
      "  \u001b[31m   \u001b[0m ecos/include/ecos_bb.h:230:16: warning: unused function 'pfloat_floor' [-Wunused-function]\n",
      "  \u001b[31m   \u001b[0m         static pfloat pfloat_floor(pfloat number, pfloat integer_tol)\n",
      "  \u001b[31m   \u001b[0m                       ^\n",
      "  \u001b[31m   \u001b[0m ecos/include/ecos_bb.h:235:16: warning: unused function 'float_eqls' [-Wunused-function]\n",
      "  \u001b[31m   \u001b[0m         static idxint float_eqls(pfloat a, pfloat b, pfloat integer_tol)\n",
      "  \u001b[31m   \u001b[0m                       ^\n",
      "  \u001b[31m   \u001b[0m 6 warnings generated.\n",
      "  \u001b[31m   \u001b[0m In file included from ecos/ecos_bb/ecos_bb_preproc.c:30:\n",
      "  \u001b[31m   \u001b[0m ecos/include/ecos_bb.h:205:15: warning: unused function 'get_bool_node_id' [-Wunused-function]\n",
      "  \u001b[31m   \u001b[0m         static char *get_bool_node_id(idxint idx, ecos_bb_pwork *prob)\n",
      "  \u001b[31m   \u001b[0m                      ^\n",
      "  \u001b[31m   \u001b[0m ecos/include/ecos_bb.h:210:17: warning: unused function 'get_int_node_id' [-Wunused-function]\n",
      "  \u001b[31m   \u001b[0m         static pfloat *get_int_node_id(idxint idx, ecos_bb_pwork *prob)\n",
      "  \u001b[31m   \u001b[0m                        ^\n",
      "  \u001b[31m   \u001b[0m ecos/include/ecos_bb.h:220:16: warning: unused function 'pfloat_round' [-Wunused-function]\n",
      "  \u001b[31m   \u001b[0m         static pfloat pfloat_round(pfloat number)\n",
      "  \u001b[31m   \u001b[0m                       ^\n",
      "  \u001b[31m   \u001b[0m ecos/include/ecos_bb.h:225:16: warning: unused function 'pfloat_ceil' [-Wunused-function]\n",
      "  \u001b[31m   \u001b[0m         static pfloat pfloat_ceil(pfloat number, pfloat integer_tol)\n",
      "  \u001b[31m   \u001b[0m                       ^\n",
      "  \u001b[31m   \u001b[0m ecos/include/ecos_bb.h:230:16: warning: unused function 'pfloat_floor' [-Wunused-function]\n",
      "  \u001b[31m   \u001b[0m         static pfloat pfloat_floor(pfloat number, pfloat integer_tol)\n",
      "  \u001b[31m   \u001b[0m                       ^\n",
      "  \u001b[31m   \u001b[0m ecos/include/ecos_bb.h:235:16: warning: unused function 'float_eqls' [-Wunused-function]\n",
      "  \u001b[31m   \u001b[0m         static idxint float_eqls(pfloat a, pfloat b, pfloat integer_tol)\n",
      "  \u001b[31m   \u001b[0m                       ^\n",
      "  \u001b[31m   \u001b[0m 6 warnings generated.\n",
      "  \u001b[31m   \u001b[0m arm64-apple-darwin20.0.0-clang -Wno-unused-result -Wsign-compare -Wunreachable-code -fno-common -dynamic -DNDEBUG -g -fwrapv -O3 -Wall -iwithsysroot/System/Library/Frameworks/System.framework/PrivateHeaders -iwithsysroot/Applications/Xcode.app/Contents/Developer/Library/Frameworks/Python3.framework/Versions/3.9/Headers -arch arm64 -arch x86_64 -Werror=implicit-function-declaration -Wno-error=unreachable-code -ftree-vectorize -fPIC -fPIE -fstack-protector-strong -O2 -pipe -isystem /opt/anaconda3/include -D_FORTIFY_SOURCE=2 -isystem /opt/anaconda3/include -DPYTHON -DDLONG -DLDL_LONG -DCTRLC=1 -Iecos/include -Iecos/external/amd/include -Iecos/external/ldl/include -Iecos/external/SuiteSparse_config -I/Users/olgamordachova/PycharmProjects/pythonProject/.venv/include -I/Library/Developer/CommandLineTools/Library/Frameworks/Python3.framework/Versions/3.9/include/python3.9 -I/private/var/folders/2z/b500qw6s6cx6j167ynb3767c0000gn/T/pip-build-env-ocx0fnwg/overlay/lib/python3.9/site-packages/numpy/_core/include -c ecos/external/amd/src/amd_1.c -o build/temp.macosx-10.9-universal2-cpython-39/ecos/external/amd/src/amd_1.o\n",
      "  \u001b[31m   \u001b[0m arm64-apple-darwin20.0.0-clang -Wno-unused-result -Wsign-compare -Wunreachable-code -fno-common -dynamic -DNDEBUG -g -fwrapv -O3 -Wall -iwithsysroot/System/Library/Frameworks/System.framework/PrivateHeaders -iwithsysroot/Applications/Xcode.app/Contents/Developer/Library/Frameworks/Python3.framework/Versions/3.9/Headers -arch arm64 -arch x86_64 -Werror=implicit-function-declaration -Wno-error=unreachable-code -ftree-vectorize -fPIC -fPIE -fstack-protector-strong -O2 -pipe -isystem /opt/anaconda3/include -D_FORTIFY_SOURCE=2 -isystem /opt/anaconda3/include -DPYTHON -DDLONG -DLDL_LONG -DCTRLC=1 -Iecos/include -Iecos/external/amd/include -Iecos/external/ldl/include -Iecos/external/SuiteSparse_config -I/Users/olgamordachova/PycharmProjects/pythonProject/.venv/include -I/Library/Developer/CommandLineTools/Library/Frameworks/Python3.framework/Versions/3.9/include/python3.9 -I/private/var/folders/2z/b500qw6s6cx6j167ynb3767c0000gn/T/pip-build-env-ocx0fnwg/overlay/lib/python3.9/site-packages/numpy/_core/include -c ecos/external/amd/src/amd_2.c -o build/temp.macosx-10.9-universal2-cpython-39/ecos/external/amd/src/amd_2.o\n",
      "  \u001b[31m   \u001b[0m arm64-apple-darwin20.0.0-clang -Wno-unused-result -Wsign-compare -Wunreachable-code -fno-common -dynamic -DNDEBUG -g -fwrapv -O3 -Wall -iwithsysroot/System/Library/Frameworks/System.framework/PrivateHeaders -iwithsysroot/Applications/Xcode.app/Contents/Developer/Library/Frameworks/Python3.framework/Versions/3.9/Headers -arch arm64 -arch x86_64 -Werror=implicit-function-declaration -Wno-error=unreachable-code -ftree-vectorize -fPIC -fPIE -fstack-protector-strong -O2 -pipe -isystem /opt/anaconda3/include -D_FORTIFY_SOURCE=2 -isystem /opt/anaconda3/include -DPYTHON -DDLONG -DLDL_LONG -DCTRLC=1 -Iecos/include -Iecos/external/amd/include -Iecos/external/ldl/include -Iecos/external/SuiteSparse_config -I/Users/olgamordachova/PycharmProjects/pythonProject/.venv/include -I/Library/Developer/CommandLineTools/Library/Frameworks/Python3.framework/Versions/3.9/include/python3.9 -I/private/var/folders/2z/b500qw6s6cx6j167ynb3767c0000gn/T/pip-build-env-ocx0fnwg/overlay/lib/python3.9/site-packages/numpy/_core/include -c ecos/external/amd/src/amd_aat.c -o build/temp.macosx-10.9-universal2-cpython-39/ecos/external/amd/src/amd_aat.o\n",
      "  \u001b[31m   \u001b[0m arm64-apple-darwin20.0.0-clang -Wno-unused-result -Wsign-compare -Wunreachable-code -fno-common -dynamic -DNDEBUG -g -fwrapv -O3 -Wall -iwithsysroot/System/Library/Frameworks/System.framework/PrivateHeaders -iwithsysroot/Applications/Xcode.app/Contents/Developer/Library/Frameworks/Python3.framework/Versions/3.9/Headers -arch arm64 -arch x86_64 -Werror=implicit-function-declaration -Wno-error=unreachable-code -ftree-vectorize -fPIC -fPIE -fstack-protector-strong -O2 -pipe -isystem /opt/anaconda3/include -D_FORTIFY_SOURCE=2 -isystem /opt/anaconda3/include -DPYTHON -DDLONG -DLDL_LONG -DCTRLC=1 -Iecos/include -Iecos/external/amd/include -Iecos/external/ldl/include -Iecos/external/SuiteSparse_config -I/Users/olgamordachova/PycharmProjects/pythonProject/.venv/include -I/Library/Developer/CommandLineTools/Library/Frameworks/Python3.framework/Versions/3.9/include/python3.9 -I/private/var/folders/2z/b500qw6s6cx6j167ynb3767c0000gn/T/pip-build-env-ocx0fnwg/overlay/lib/python3.9/site-packages/numpy/_core/include -c ecos/external/amd/src/amd_control.c -o build/temp.macosx-10.9-universal2-cpython-39/ecos/external/amd/src/amd_control.o\n",
      "  \u001b[31m   \u001b[0m arm64-apple-darwin20.0.0-clang -Wno-unused-result -Wsign-compare -Wunreachable-code -fno-common -dynamic -DNDEBUG -g -fwrapv -O3 -Wall -iwithsysroot/System/Library/Frameworks/System.framework/PrivateHeaders -iwithsysroot/Applications/Xcode.app/Contents/Developer/Library/Frameworks/Python3.framework/Versions/3.9/Headers -arch arm64 -arch x86_64 -Werror=implicit-function-declaration -Wno-error=unreachable-code -ftree-vectorize -fPIC -fPIE -fstack-protector-strong -O2 -pipe -isystem /opt/anaconda3/include -D_FORTIFY_SOURCE=2 -isystem /opt/anaconda3/include -DPYTHON -DDLONG -DLDL_LONG -DCTRLC=1 -Iecos/include -Iecos/external/amd/include -Iecos/external/ldl/include -Iecos/external/SuiteSparse_config -I/Users/olgamordachova/PycharmProjects/pythonProject/.venv/include -I/Library/Developer/CommandLineTools/Library/Frameworks/Python3.framework/Versions/3.9/include/python3.9 -I/private/var/folders/2z/b500qw6s6cx6j167ynb3767c0000gn/T/pip-build-env-ocx0fnwg/overlay/lib/python3.9/site-packages/numpy/_core/include -c ecos/external/amd/src/amd_defaults.c -o build/temp.macosx-10.9-universal2-cpython-39/ecos/external/amd/src/amd_defaults.o\n",
      "  \u001b[31m   \u001b[0m arm64-apple-darwin20.0.0-clang -Wno-unused-result -Wsign-compare -Wunreachable-code -fno-common -dynamic -DNDEBUG -g -fwrapv -O3 -Wall -iwithsysroot/System/Library/Frameworks/System.framework/PrivateHeaders -iwithsysroot/Applications/Xcode.app/Contents/Developer/Library/Frameworks/Python3.framework/Versions/3.9/Headers -arch arm64 -arch x86_64 -Werror=implicit-function-declaration -Wno-error=unreachable-code -ftree-vectorize -fPIC -fPIE -fstack-protector-strong -O2 -pipe -isystem /opt/anaconda3/include -D_FORTIFY_SOURCE=2 -isystem /opt/anaconda3/include -DPYTHON -DDLONG -DLDL_LONG -DCTRLC=1 -Iecos/include -Iecos/external/amd/include -Iecos/external/ldl/include -Iecos/external/SuiteSparse_config -I/Users/olgamordachova/PycharmProjects/pythonProject/.venv/include -I/Library/Developer/CommandLineTools/Library/Frameworks/Python3.framework/Versions/3.9/include/python3.9 -I/private/var/folders/2z/b500qw6s6cx6j167ynb3767c0000gn/T/pip-build-env-ocx0fnwg/overlay/lib/python3.9/site-packages/numpy/_core/include -c ecos/external/amd/src/amd_dump.c -o build/temp.macosx-10.9-universal2-cpython-39/ecos/external/amd/src/amd_dump.o\n",
      "  \u001b[31m   \u001b[0m arm64-apple-darwin20.0.0-clang -Wno-unused-result -Wsign-compare -Wunreachable-code -fno-common -dynamic -DNDEBUG -g -fwrapv -O3 -Wall -iwithsysroot/System/Library/Frameworks/System.framework/PrivateHeaders -iwithsysroot/Applications/Xcode.app/Contents/Developer/Library/Frameworks/Python3.framework/Versions/3.9/Headers -arch arm64 -arch x86_64 -Werror=implicit-function-declaration -Wno-error=unreachable-code -ftree-vectorize -fPIC -fPIE -fstack-protector-strong -O2 -pipe -isystem /opt/anaconda3/include -D_FORTIFY_SOURCE=2 -isystem /opt/anaconda3/include -DPYTHON -DDLONG -DLDL_LONG -DCTRLC=1 -Iecos/include -Iecos/external/amd/include -Iecos/external/ldl/include -Iecos/external/SuiteSparse_config -I/Users/olgamordachova/PycharmProjects/pythonProject/.venv/include -I/Library/Developer/CommandLineTools/Library/Frameworks/Python3.framework/Versions/3.9/include/python3.9 -I/private/var/folders/2z/b500qw6s6cx6j167ynb3767c0000gn/T/pip-build-env-ocx0fnwg/overlay/lib/python3.9/site-packages/numpy/_core/include -c ecos/external/amd/src/amd_global.c -o build/temp.macosx-10.9-universal2-cpython-39/ecos/external/amd/src/amd_global.o\n",
      "  \u001b[31m   \u001b[0m arm64-apple-darwin20.0.0-clang -Wno-unused-result -Wsign-compare -Wunreachable-code -fno-common -dynamic -DNDEBUG -g -fwrapv -O3 -Wall -iwithsysroot/System/Library/Frameworks/System.framework/PrivateHeaders -iwithsysroot/Applications/Xcode.app/Contents/Developer/Library/Frameworks/Python3.framework/Versions/3.9/Headers -arch arm64 -arch x86_64 -Werror=implicit-function-declaration -Wno-error=unreachable-code -ftree-vectorize -fPIC -fPIE -fstack-protector-strong -O2 -pipe -isystem /opt/anaconda3/include -D_FORTIFY_SOURCE=2 -isystem /opt/anaconda3/include -DPYTHON -DDLONG -DLDL_LONG -DCTRLC=1 -Iecos/include -Iecos/external/amd/include -Iecos/external/ldl/include -Iecos/external/SuiteSparse_config -I/Users/olgamordachova/PycharmProjects/pythonProject/.venv/include -I/Library/Developer/CommandLineTools/Library/Frameworks/Python3.framework/Versions/3.9/include/python3.9 -I/private/var/folders/2z/b500qw6s6cx6j167ynb3767c0000gn/T/pip-build-env-ocx0fnwg/overlay/lib/python3.9/site-packages/numpy/_core/include -c ecos/external/amd/src/amd_info.c -o build/temp.macosx-10.9-universal2-cpython-39/ecos/external/amd/src/amd_info.o\n",
      "  \u001b[31m   \u001b[0m arm64-apple-darwin20.0.0-clang -Wno-unused-result -Wsign-compare -Wunreachable-code -fno-common -dynamic -DNDEBUG -g -fwrapv -O3 -Wall -iwithsysroot/System/Library/Frameworks/System.framework/PrivateHeaders -iwithsysroot/Applications/Xcode.app/Contents/Developer/Library/Frameworks/Python3.framework/Versions/3.9/Headers -arch arm64 -arch x86_64 -Werror=implicit-function-declaration -Wno-error=unreachable-code -ftree-vectorize -fPIC -fPIE -fstack-protector-strong -O2 -pipe -isystem /opt/anaconda3/include -D_FORTIFY_SOURCE=2 -isystem /opt/anaconda3/include -DPYTHON -DDLONG -DLDL_LONG -DCTRLC=1 -Iecos/include -Iecos/external/amd/include -Iecos/external/ldl/include -Iecos/external/SuiteSparse_config -I/Users/olgamordachova/PycharmProjects/pythonProject/.venv/include -I/Library/Developer/CommandLineTools/Library/Frameworks/Python3.framework/Versions/3.9/include/python3.9 -I/private/var/folders/2z/b500qw6s6cx6j167ynb3767c0000gn/T/pip-build-env-ocx0fnwg/overlay/lib/python3.9/site-packages/numpy/_core/include -c ecos/external/amd/src/amd_order.c -o build/temp.macosx-10.9-universal2-cpython-39/ecos/external/amd/src/amd_order.o\n",
      "  \u001b[31m   \u001b[0m arm64-apple-darwin20.0.0-clang -Wno-unused-result -Wsign-compare -Wunreachable-code -fno-common -dynamic -DNDEBUG -g -fwrapv -O3 -Wall -iwithsysroot/System/Library/Frameworks/System.framework/PrivateHeaders -iwithsysroot/Applications/Xcode.app/Contents/Developer/Library/Frameworks/Python3.framework/Versions/3.9/Headers -arch arm64 -arch x86_64 -Werror=implicit-function-declaration -Wno-error=unreachable-code -ftree-vectorize -fPIC -fPIE -fstack-protector-strong -O2 -pipe -isystem /opt/anaconda3/include -D_FORTIFY_SOURCE=2 -isystem /opt/anaconda3/include -DPYTHON -DDLONG -DLDL_LONG -DCTRLC=1 -Iecos/include -Iecos/external/amd/include -Iecos/external/ldl/include -Iecos/external/SuiteSparse_config -I/Users/olgamordachova/PycharmProjects/pythonProject/.venv/include -I/Library/Developer/CommandLineTools/Library/Frameworks/Python3.framework/Versions/3.9/include/python3.9 -I/private/var/folders/2z/b500qw6s6cx6j167ynb3767c0000gn/T/pip-build-env-ocx0fnwg/overlay/lib/python3.9/site-packages/numpy/_core/include -c ecos/external/amd/src/amd_post_tree.c -o build/temp.macosx-10.9-universal2-cpython-39/ecos/external/amd/src/amd_post_tree.o\n",
      "  \u001b[31m   \u001b[0m arm64-apple-darwin20.0.0-clang -Wno-unused-result -Wsign-compare -Wunreachable-code -fno-common -dynamic -DNDEBUG -g -fwrapv -O3 -Wall -iwithsysroot/System/Library/Frameworks/System.framework/PrivateHeaders -iwithsysroot/Applications/Xcode.app/Contents/Developer/Library/Frameworks/Python3.framework/Versions/3.9/Headers -arch arm64 -arch x86_64 -Werror=implicit-function-declaration -Wno-error=unreachable-code -ftree-vectorize -fPIC -fPIE -fstack-protector-strong -O2 -pipe -isystem /opt/anaconda3/include -D_FORTIFY_SOURCE=2 -isystem /opt/anaconda3/include -DPYTHON -DDLONG -DLDL_LONG -DCTRLC=1 -Iecos/include -Iecos/external/amd/include -Iecos/external/ldl/include -Iecos/external/SuiteSparse_config -I/Users/olgamordachova/PycharmProjects/pythonProject/.venv/include -I/Library/Developer/CommandLineTools/Library/Frameworks/Python3.framework/Versions/3.9/include/python3.9 -I/private/var/folders/2z/b500qw6s6cx6j167ynb3767c0000gn/T/pip-build-env-ocx0fnwg/overlay/lib/python3.9/site-packages/numpy/_core/include -c ecos/external/amd/src/amd_postorder.c -o build/temp.macosx-10.9-universal2-cpython-39/ecos/external/amd/src/amd_postorder.o\n",
      "  \u001b[31m   \u001b[0m arm64-apple-darwin20.0.0-clang -Wno-unused-result -Wsign-compare -Wunreachable-code -fno-common -dynamic -DNDEBUG -g -fwrapv -O3 -Wall -iwithsysroot/System/Library/Frameworks/System.framework/PrivateHeaders -iwithsysroot/Applications/Xcode.app/Contents/Developer/Library/Frameworks/Python3.framework/Versions/3.9/Headers -arch arm64 -arch x86_64 -Werror=implicit-function-declaration -Wno-error=unreachable-code -ftree-vectorize -fPIC -fPIE -fstack-protector-strong -O2 -pipe -isystem /opt/anaconda3/include -D_FORTIFY_SOURCE=2 -isystem /opt/anaconda3/include -DPYTHON -DDLONG -DLDL_LONG -DCTRLC=1 -Iecos/include -Iecos/external/amd/include -Iecos/external/ldl/include -Iecos/external/SuiteSparse_config -I/Users/olgamordachova/PycharmProjects/pythonProject/.venv/include -I/Library/Developer/CommandLineTools/Library/Frameworks/Python3.framework/Versions/3.9/include/python3.9 -I/private/var/folders/2z/b500qw6s6cx6j167ynb3767c0000gn/T/pip-build-env-ocx0fnwg/overlay/lib/python3.9/site-packages/numpy/_core/include -c ecos/external/amd/src/amd_preprocess.c -o build/temp.macosx-10.9-universal2-cpython-39/ecos/external/amd/src/amd_preprocess.o\n",
      "  \u001b[31m   \u001b[0m arm64-apple-darwin20.0.0-clang -Wno-unused-result -Wsign-compare -Wunreachable-code -fno-common -dynamic -DNDEBUG -g -fwrapv -O3 -Wall -iwithsysroot/System/Library/Frameworks/System.framework/PrivateHeaders -iwithsysroot/Applications/Xcode.app/Contents/Developer/Library/Frameworks/Python3.framework/Versions/3.9/Headers -arch arm64 -arch x86_64 -Werror=implicit-function-declaration -Wno-error=unreachable-code -ftree-vectorize -fPIC -fPIE -fstack-protector-strong -O2 -pipe -isystem /opt/anaconda3/include -D_FORTIFY_SOURCE=2 -isystem /opt/anaconda3/include -DPYTHON -DDLONG -DLDL_LONG -DCTRLC=1 -Iecos/include -Iecos/external/amd/include -Iecos/external/ldl/include -Iecos/external/SuiteSparse_config -I/Users/olgamordachova/PycharmProjects/pythonProject/.venv/include -I/Library/Developer/CommandLineTools/Library/Frameworks/Python3.framework/Versions/3.9/include/python3.9 -I/private/var/folders/2z/b500qw6s6cx6j167ynb3767c0000gn/T/pip-build-env-ocx0fnwg/overlay/lib/python3.9/site-packages/numpy/_core/include -c ecos/external/amd/src/amd_valid.c -o build/temp.macosx-10.9-universal2-cpython-39/ecos/external/amd/src/amd_valid.o\n",
      "  \u001b[31m   \u001b[0m arm64-apple-darwin20.0.0-clang -Wno-unused-result -Wsign-compare -Wunreachable-code -fno-common -dynamic -DNDEBUG -g -fwrapv -O3 -Wall -iwithsysroot/System/Library/Frameworks/System.framework/PrivateHeaders -iwithsysroot/Applications/Xcode.app/Contents/Developer/Library/Frameworks/Python3.framework/Versions/3.9/Headers -arch arm64 -arch x86_64 -Werror=implicit-function-declaration -Wno-error=unreachable-code -ftree-vectorize -fPIC -fPIE -fstack-protector-strong -O2 -pipe -isystem /opt/anaconda3/include -D_FORTIFY_SOURCE=2 -isystem /opt/anaconda3/include -DPYTHON -DDLONG -DLDL_LONG -DCTRLC=1 -Iecos/include -Iecos/external/amd/include -Iecos/external/ldl/include -Iecos/external/SuiteSparse_config -I/Users/olgamordachova/PycharmProjects/pythonProject/.venv/include -I/Library/Developer/CommandLineTools/Library/Frameworks/Python3.framework/Versions/3.9/include/python3.9 -I/private/var/folders/2z/b500qw6s6cx6j167ynb3767c0000gn/T/pip-build-env-ocx0fnwg/overlay/lib/python3.9/site-packages/numpy/_core/include -c ecos/external/ldl/src/ldl.c -o build/temp.macosx-10.9-universal2-cpython-39/ecos/external/ldl/src/ldl.o\n",
      "  \u001b[31m   \u001b[0m arm64-apple-darwin20.0.0-clang -Wno-unused-result -Wsign-compare -Wunreachable-code -fno-common -dynamic -DNDEBUG -g -fwrapv -O3 -Wall -iwithsysroot/System/Library/Frameworks/System.framework/PrivateHeaders -iwithsysroot/Applications/Xcode.app/Contents/Developer/Library/Frameworks/Python3.framework/Versions/3.9/Headers -arch arm64 -arch x86_64 -Werror=implicit-function-declaration -Wno-error=unreachable-code -ftree-vectorize -fPIC -fPIE -fstack-protector-strong -O2 -pipe -isystem /opt/anaconda3/include -D_FORTIFY_SOURCE=2 -isystem /opt/anaconda3/include -DPYTHON -DDLONG -DLDL_LONG -DCTRLC=1 -Iecos/include -Iecos/external/amd/include -Iecos/external/ldl/include -Iecos/external/SuiteSparse_config -I/Users/olgamordachova/PycharmProjects/pythonProject/.venv/include -I/Library/Developer/CommandLineTools/Library/Frameworks/Python3.framework/Versions/3.9/include/python3.9 -I/private/var/folders/2z/b500qw6s6cx6j167ynb3767c0000gn/T/pip-build-env-ocx0fnwg/overlay/lib/python3.9/site-packages/numpy/_core/include -c ecos/src/cone.c -o build/temp.macosx-10.9-universal2-cpython-39/ecos/src/cone.o\n",
      "  \u001b[31m   \u001b[0m arm64-apple-darwin20.0.0-clang -Wno-unused-result -Wsign-compare -Wunreachable-code -fno-common -dynamic -DNDEBUG -g -fwrapv -O3 -Wall -iwithsysroot/System/Library/Frameworks/System.framework/PrivateHeaders -iwithsysroot/Applications/Xcode.app/Contents/Developer/Library/Frameworks/Python3.framework/Versions/3.9/Headers -arch arm64 -arch x86_64 -Werror=implicit-function-declaration -Wno-error=unreachable-code -ftree-vectorize -fPIC -fPIE -fstack-protector-strong -O2 -pipe -isystem /opt/anaconda3/include -D_FORTIFY_SOURCE=2 -isystem /opt/anaconda3/include -DPYTHON -DDLONG -DLDL_LONG -DCTRLC=1 -Iecos/include -Iecos/external/amd/include -Iecos/external/ldl/include -Iecos/external/SuiteSparse_config -I/Users/olgamordachova/PycharmProjects/pythonProject/.venv/include -I/Library/Developer/CommandLineTools/Library/Frameworks/Python3.framework/Versions/3.9/include/python3.9 -I/private/var/folders/2z/b500qw6s6cx6j167ynb3767c0000gn/T/pip-build-env-ocx0fnwg/overlay/lib/python3.9/site-packages/numpy/_core/include -c ecos/src/ctrlc.c -o build/temp.macosx-10.9-universal2-cpython-39/ecos/src/ctrlc.o\n",
      "  \u001b[31m   \u001b[0m arm64-apple-darwin20.0.0-clang -Wno-unused-result -Wsign-compare -Wunreachable-code -fno-common -dynamic -DNDEBUG -g -fwrapv -O3 -Wall -iwithsysroot/System/Library/Frameworks/System.framework/PrivateHeaders -iwithsysroot/Applications/Xcode.app/Contents/Developer/Library/Frameworks/Python3.framework/Versions/3.9/Headers -arch arm64 -arch x86_64 -Werror=implicit-function-declaration -Wno-error=unreachable-code -ftree-vectorize -fPIC -fPIE -fstack-protector-strong -O2 -pipe -isystem /opt/anaconda3/include -D_FORTIFY_SOURCE=2 -isystem /opt/anaconda3/include -DPYTHON -DDLONG -DLDL_LONG -DCTRLC=1 -Iecos/include -Iecos/external/amd/include -Iecos/external/ldl/include -Iecos/external/SuiteSparse_config -I/Users/olgamordachova/PycharmProjects/pythonProject/.venv/include -I/Library/Developer/CommandLineTools/Library/Frameworks/Python3.framework/Versions/3.9/include/python3.9 -I/private/var/folders/2z/b500qw6s6cx6j167ynb3767c0000gn/T/pip-build-env-ocx0fnwg/overlay/lib/python3.9/site-packages/numpy/_core/include -c ecos/src/ecos.c -o build/temp.macosx-10.9-universal2-cpython-39/ecos/src/ecos.o\n",
      "  \u001b[31m   \u001b[0m arm64-apple-darwin20.0.0-clang -Wno-unused-result -Wsign-compare -Wunreachable-code -fno-common -dynamic -DNDEBUG -g -fwrapv -O3 -Wall -iwithsysroot/System/Library/Frameworks/System.framework/PrivateHeaders -iwithsysroot/Applications/Xcode.app/Contents/Developer/Library/Frameworks/Python3.framework/Versions/3.9/Headers -arch arm64 -arch x86_64 -Werror=implicit-function-declaration -Wno-error=unreachable-code -ftree-vectorize -fPIC -fPIE -fstack-protector-strong -O2 -pipe -isystem /opt/anaconda3/include -D_FORTIFY_SOURCE=2 -isystem /opt/anaconda3/include -DPYTHON -DDLONG -DLDL_LONG -DCTRLC=1 -Iecos/include -Iecos/external/amd/include -Iecos/external/ldl/include -Iecos/external/SuiteSparse_config -I/Users/olgamordachova/PycharmProjects/pythonProject/.venv/include -I/Library/Developer/CommandLineTools/Library/Frameworks/Python3.framework/Versions/3.9/include/python3.9 -I/private/var/folders/2z/b500qw6s6cx6j167ynb3767c0000gn/T/pip-build-env-ocx0fnwg/overlay/lib/python3.9/site-packages/numpy/_core/include -c ecos/src/equil.c -o build/temp.macosx-10.9-universal2-cpython-39/ecos/src/equil.o\n",
      "  \u001b[31m   \u001b[0m arm64-apple-darwin20.0.0-clang -Wno-unused-result -Wsign-compare -Wunreachable-code -fno-common -dynamic -DNDEBUG -g -fwrapv -O3 -Wall -iwithsysroot/System/Library/Frameworks/System.framework/PrivateHeaders -iwithsysroot/Applications/Xcode.app/Contents/Developer/Library/Frameworks/Python3.framework/Versions/3.9/Headers -arch arm64 -arch x86_64 -Werror=implicit-function-declaration -Wno-error=unreachable-code -ftree-vectorize -fPIC -fPIE -fstack-protector-strong -O2 -pipe -isystem /opt/anaconda3/include -D_FORTIFY_SOURCE=2 -isystem /opt/anaconda3/include -DPYTHON -DDLONG -DLDL_LONG -DCTRLC=1 -Iecos/include -Iecos/external/amd/include -Iecos/external/ldl/include -Iecos/external/SuiteSparse_config -I/Users/olgamordachova/PycharmProjects/pythonProject/.venv/include -I/Library/Developer/CommandLineTools/Library/Frameworks/Python3.framework/Versions/3.9/include/python3.9 -I/private/var/folders/2z/b500qw6s6cx6j167ynb3767c0000gn/T/pip-build-env-ocx0fnwg/overlay/lib/python3.9/site-packages/numpy/_core/include -c ecos/src/expcone.c -o build/temp.macosx-10.9-universal2-cpython-39/ecos/src/expcone.o\n",
      "  \u001b[31m   \u001b[0m arm64-apple-darwin20.0.0-clang -Wno-unused-result -Wsign-compare -Wunreachable-code -fno-common -dynamic -DNDEBUG -g -fwrapv -O3 -Wall -iwithsysroot/System/Library/Frameworks/System.framework/PrivateHeaders -iwithsysroot/Applications/Xcode.app/Contents/Developer/Library/Frameworks/Python3.framework/Versions/3.9/Headers -arch arm64 -arch x86_64 -Werror=implicit-function-declaration -Wno-error=unreachable-code -ftree-vectorize -fPIC -fPIE -fstack-protector-strong -O2 -pipe -isystem /opt/anaconda3/include -D_FORTIFY_SOURCE=2 -isystem /opt/anaconda3/include -DPYTHON -DDLONG -DLDL_LONG -DCTRLC=1 -Iecos/include -Iecos/external/amd/include -Iecos/external/ldl/include -Iecos/external/SuiteSparse_config -I/Users/olgamordachova/PycharmProjects/pythonProject/.venv/include -I/Library/Developer/CommandLineTools/Library/Frameworks/Python3.framework/Versions/3.9/include/python3.9 -I/private/var/folders/2z/b500qw6s6cx6j167ynb3767c0000gn/T/pip-build-env-ocx0fnwg/overlay/lib/python3.9/site-packages/numpy/_core/include -c ecos/src/kkt.c -o build/temp.macosx-10.9-universal2-cpython-39/ecos/src/kkt.o\n",
      "  \u001b[31m   \u001b[0m arm64-apple-darwin20.0.0-clang -Wno-unused-result -Wsign-compare -Wunreachable-code -fno-common -dynamic -DNDEBUG -g -fwrapv -O3 -Wall -iwithsysroot/System/Library/Frameworks/System.framework/PrivateHeaders -iwithsysroot/Applications/Xcode.app/Contents/Developer/Library/Frameworks/Python3.framework/Versions/3.9/Headers -arch arm64 -arch x86_64 -Werror=implicit-function-declaration -Wno-error=unreachable-code -ftree-vectorize -fPIC -fPIE -fstack-protector-strong -O2 -pipe -isystem /opt/anaconda3/include -D_FORTIFY_SOURCE=2 -isystem /opt/anaconda3/include -DPYTHON -DDLONG -DLDL_LONG -DCTRLC=1 -Iecos/include -Iecos/external/amd/include -Iecos/external/ldl/include -Iecos/external/SuiteSparse_config -I/Users/olgamordachova/PycharmProjects/pythonProject/.venv/include -I/Library/Developer/CommandLineTools/Library/Frameworks/Python3.framework/Versions/3.9/include/python3.9 -I/private/var/folders/2z/b500qw6s6cx6j167ynb3767c0000gn/T/pip-build-env-ocx0fnwg/overlay/lib/python3.9/site-packages/numpy/_core/include -c ecos/src/preproc.c -o build/temp.macosx-10.9-universal2-cpython-39/ecos/src/preproc.o\n",
      "  \u001b[31m   \u001b[0m arm64-apple-darwin20.0.0-clang -Wno-unused-result -Wsign-compare -Wunreachable-code -fno-common -dynamic -DNDEBUG -g -fwrapv -O3 -Wall -iwithsysroot/System/Library/Frameworks/System.framework/PrivateHeaders -iwithsysroot/Applications/Xcode.app/Contents/Developer/Library/Frameworks/Python3.framework/Versions/3.9/Headers -arch arm64 -arch x86_64 -Werror=implicit-function-declaration -Wno-error=unreachable-code -ftree-vectorize -fPIC -fPIE -fstack-protector-strong -O2 -pipe -isystem /opt/anaconda3/include -D_FORTIFY_SOURCE=2 -isystem /opt/anaconda3/include -DPYTHON -DDLONG -DLDL_LONG -DCTRLC=1 -Iecos/include -Iecos/external/amd/include -Iecos/external/ldl/include -Iecos/external/SuiteSparse_config -I/Users/olgamordachova/PycharmProjects/pythonProject/.venv/include -I/Library/Developer/CommandLineTools/Library/Frameworks/Python3.framework/Versions/3.9/include/python3.9 -I/private/var/folders/2z/b500qw6s6cx6j167ynb3767c0000gn/T/pip-build-env-ocx0fnwg/overlay/lib/python3.9/site-packages/numpy/_core/include -c ecos/src/spla.c -o build/temp.macosx-10.9-universal2-cpython-39/ecos/src/spla.o\n",
      "  \u001b[31m   \u001b[0m arm64-apple-darwin20.0.0-clang -Wno-unused-result -Wsign-compare -Wunreachable-code -fno-common -dynamic -DNDEBUG -g -fwrapv -O3 -Wall -iwithsysroot/System/Library/Frameworks/System.framework/PrivateHeaders -iwithsysroot/Applications/Xcode.app/Contents/Developer/Library/Frameworks/Python3.framework/Versions/3.9/Headers -arch arm64 -arch x86_64 -Werror=implicit-function-declaration -Wno-error=unreachable-code -ftree-vectorize -fPIC -fPIE -fstack-protector-strong -O2 -pipe -isystem /opt/anaconda3/include -D_FORTIFY_SOURCE=2 -isystem /opt/anaconda3/include -DPYTHON -DDLONG -DLDL_LONG -DCTRLC=1 -Iecos/include -Iecos/external/amd/include -Iecos/external/ldl/include -Iecos/external/SuiteSparse_config -I/Users/olgamordachova/PycharmProjects/pythonProject/.venv/include -I/Library/Developer/CommandLineTools/Library/Frameworks/Python3.framework/Versions/3.9/include/python3.9 -I/private/var/folders/2z/b500qw6s6cx6j167ynb3767c0000gn/T/pip-build-env-ocx0fnwg/overlay/lib/python3.9/site-packages/numpy/_core/include -c ecos/src/splamm.c -o build/temp.macosx-10.9-universal2-cpython-39/ecos/src/splamm.o\n",
      "  \u001b[31m   \u001b[0m arm64-apple-darwin20.0.0-clang -Wno-unused-result -Wsign-compare -Wunreachable-code -fno-common -dynamic -DNDEBUG -g -fwrapv -O3 -Wall -iwithsysroot/System/Library/Frameworks/System.framework/PrivateHeaders -iwithsysroot/Applications/Xcode.app/Contents/Developer/Library/Frameworks/Python3.framework/Versions/3.9/Headers -arch arm64 -arch x86_64 -Werror=implicit-function-declaration -Wno-error=unreachable-code -ftree-vectorize -fPIC -fPIE -fstack-protector-strong -O2 -pipe -isystem /opt/anaconda3/include -D_FORTIFY_SOURCE=2 -isystem /opt/anaconda3/include -DPYTHON -DDLONG -DLDL_LONG -DCTRLC=1 -Iecos/include -Iecos/external/amd/include -Iecos/external/ldl/include -Iecos/external/SuiteSparse_config -I/Users/olgamordachova/PycharmProjects/pythonProject/.venv/include -I/Library/Developer/CommandLineTools/Library/Frameworks/Python3.framework/Versions/3.9/include/python3.9 -I/private/var/folders/2z/b500qw6s6cx6j167ynb3767c0000gn/T/pip-build-env-ocx0fnwg/overlay/lib/python3.9/site-packages/numpy/_core/include -c ecos/src/timer.c -o build/temp.macosx-10.9-universal2-cpython-39/ecos/src/timer.o\n",
      "  \u001b[31m   \u001b[0m arm64-apple-darwin20.0.0-clang -Wno-unused-result -Wsign-compare -Wunreachable-code -fno-common -dynamic -DNDEBUG -g -fwrapv -O3 -Wall -iwithsysroot/System/Library/Frameworks/System.framework/PrivateHeaders -iwithsysroot/Applications/Xcode.app/Contents/Developer/Library/Frameworks/Python3.framework/Versions/3.9/Headers -arch arm64 -arch x86_64 -Werror=implicit-function-declaration -Wno-error=unreachable-code -ftree-vectorize -fPIC -fPIE -fstack-protector-strong -O2 -pipe -isystem /opt/anaconda3/include -D_FORTIFY_SOURCE=2 -isystem /opt/anaconda3/include -DPYTHON -DDLONG -DLDL_LONG -DCTRLC=1 -Iecos/include -Iecos/external/amd/include -Iecos/external/ldl/include -Iecos/external/SuiteSparse_config -I/Users/olgamordachova/PycharmProjects/pythonProject/.venv/include -I/Library/Developer/CommandLineTools/Library/Frameworks/Python3.framework/Versions/3.9/include/python3.9 -I/private/var/folders/2z/b500qw6s6cx6j167ynb3767c0000gn/T/pip-build-env-ocx0fnwg/overlay/lib/python3.9/site-packages/numpy/_core/include -c ecos/src/wright_omega.c -o build/temp.macosx-10.9-universal2-cpython-39/ecos/src/wright_omega.o\n",
      "  \u001b[31m   \u001b[0m arm64-apple-darwin20.0.0-clang -Wno-unused-result -Wsign-compare -Wunreachable-code -fno-common -dynamic -DNDEBUG -g -fwrapv -O3 -Wall -iwithsysroot/System/Library/Frameworks/System.framework/PrivateHeaders -iwithsysroot/Applications/Xcode.app/Contents/Developer/Library/Frameworks/Python3.framework/Versions/3.9/Headers -arch arm64 -arch x86_64 -Werror=implicit-function-declaration -Wno-error=unreachable-code -ftree-vectorize -fPIC -fPIE -fstack-protector-strong -O2 -pipe -isystem /opt/anaconda3/include -D_FORTIFY_SOURCE=2 -isystem /opt/anaconda3/include -DPYTHON -DDLONG -DLDL_LONG -DCTRLC=1 -Iecos/include -Iecos/external/amd/include -Iecos/external/ldl/include -Iecos/external/SuiteSparse_config -I/Users/olgamordachova/PycharmProjects/pythonProject/.venv/include -I/Library/Developer/CommandLineTools/Library/Frameworks/Python3.framework/Versions/3.9/include/python3.9 -I/private/var/folders/2z/b500qw6s6cx6j167ynb3767c0000gn/T/pip-build-env-ocx0fnwg/overlay/lib/python3.9/site-packages/numpy/_core/include -c src/ecosmodule.c -o build/temp.macosx-10.9-universal2-cpython-39/src/ecosmodule.o\n",
      "  \u001b[31m   \u001b[0m In file included from src/ecosmodule.c:6:\n",
      "  \u001b[31m   \u001b[0m ecos/include/ecos_bb.h:205:15: warning: unused function 'get_bool_node_id' [-Wunused-function]\n",
      "  \u001b[31m   \u001b[0m         static char *get_bool_node_id(idxint idx, ecos_bb_pwork *prob)\n",
      "  \u001b[31m   \u001b[0m                      ^\n",
      "  \u001b[31m   \u001b[0m ecos/include/ecos_bb.h:210:17: warning: unused function 'get_int_node_id' [-Wunused-function]\n",
      "  \u001b[31m   \u001b[0m         static pfloat *get_int_node_id(idxint idx, ecos_bb_pwork *prob)\n",
      "  \u001b[31m   \u001b[0m                        ^\n",
      "  \u001b[31m   \u001b[0m ecos/include/ecos_bb.h:220:16: warning: unused function 'pfloat_round' [-Wunused-function]\n",
      "  \u001b[31m   \u001b[0m         static pfloat pfloat_round(pfloat number)\n",
      "  \u001b[31m   \u001b[0m                       ^\n",
      "  \u001b[31m   \u001b[0m ecos/include/ecos_bb.h:225:16: warning: unused function 'pfloat_ceil' [-Wunused-function]\n",
      "  \u001b[31m   \u001b[0m         static pfloat pfloat_ceil(pfloat number, pfloat integer_tol)\n",
      "  \u001b[31m   \u001b[0m                       ^\n",
      "  \u001b[31m   \u001b[0m ecos/include/ecos_bb.h:230:16: warning: unused function 'pfloat_floor' [-Wunused-function]\n",
      "  \u001b[31m   \u001b[0m         static pfloat pfloat_floor(pfloat number, pfloat integer_tol)\n",
      "  \u001b[31m   \u001b[0m                       ^\n",
      "  \u001b[31m   \u001b[0m ecos/include/ecos_bb.h:235:16: warning: unused function 'float_eqls' [-Wunused-function]\n",
      "  \u001b[31m   \u001b[0m         static idxint float_eqls(pfloat a, pfloat b, pfloat integer_tol)\n",
      "  \u001b[31m   \u001b[0m                       ^\n",
      "  \u001b[31m   \u001b[0m 6 warnings generated.\n",
      "  \u001b[31m   \u001b[0m In file included from src/ecosmodule.c:6:\n",
      "  \u001b[31m   \u001b[0m ecos/include/ecos_bb.h:205:15: warning: unused function 'get_bool_node_id' [-Wunused-function]\n",
      "  \u001b[31m   \u001b[0m         static char *get_bool_node_id(idxint idx, ecos_bb_pwork *prob)\n",
      "  \u001b[31m   \u001b[0m                      ^\n",
      "  \u001b[31m   \u001b[0m ecos/include/ecos_bb.h:210:17: warning: unused function 'get_int_node_id' [-Wunused-function]\n",
      "  \u001b[31m   \u001b[0m         static pfloat *get_int_node_id(idxint idx, ecos_bb_pwork *prob)\n",
      "  \u001b[31m   \u001b[0m                        ^\n",
      "  \u001b[31m   \u001b[0m ecos/include/ecos_bb.h:220:16: warning: unused function 'pfloat_round' [-Wunused-function]\n",
      "  \u001b[31m   \u001b[0m         static pfloat pfloat_round(pfloat number)\n",
      "  \u001b[31m   \u001b[0m                       ^\n",
      "  \u001b[31m   \u001b[0m ecos/include/ecos_bb.h:225:16: warning: unused function 'pfloat_ceil' [-Wunused-function]\n",
      "  \u001b[31m   \u001b[0m         static pfloat pfloat_ceil(pfloat number, pfloat integer_tol)\n",
      "  \u001b[31m   \u001b[0m                       ^\n",
      "  \u001b[31m   \u001b[0m ecos/include/ecos_bb.h:230:16: warning: unused function 'pfloat_floor' [-Wunused-function]\n",
      "  \u001b[31m   \u001b[0m         static pfloat pfloat_floor(pfloat number, pfloat integer_tol)\n",
      "  \u001b[31m   \u001b[0m                       ^\n",
      "  \u001b[31m   \u001b[0m ecos/include/ecos_bb.h:235:16: warning: unused function 'float_eqls' [-Wunused-function]\n",
      "  \u001b[31m   \u001b[0m         static idxint float_eqls(pfloat a, pfloat b, pfloat integer_tol)\n",
      "  \u001b[31m   \u001b[0m                       ^\n",
      "  \u001b[31m   \u001b[0m 6 warnings generated.\n",
      "  \u001b[31m   \u001b[0m arm64-apple-darwin20.0.0-clang -bundle -undefined dynamic_lookup -arch arm64 -arch x86_64 -Wl,-headerpad,0x1000 -Wl,-pie -Wl,-headerpad_max_install_names -Wl,-dead_strip_dylibs -Wl,-rpath,/opt/anaconda3/lib -L/opt/anaconda3/lib -ftree-vectorize -fPIC -fPIE -fstack-protector-strong -O2 -pipe -isystem /opt/anaconda3/include -D_FORTIFY_SOURCE=2 -isystem /opt/anaconda3/include build/temp.macosx-10.9-universal2-cpython-39/ecos/ecos_bb/ecos_bb.o build/temp.macosx-10.9-universal2-cpython-39/ecos/ecos_bb/ecos_bb_preproc.o build/temp.macosx-10.9-universal2-cpython-39/ecos/external/amd/src/amd_1.o build/temp.macosx-10.9-universal2-cpython-39/ecos/external/amd/src/amd_2.o build/temp.macosx-10.9-universal2-cpython-39/ecos/external/amd/src/amd_aat.o build/temp.macosx-10.9-universal2-cpython-39/ecos/external/amd/src/amd_control.o build/temp.macosx-10.9-universal2-cpython-39/ecos/external/amd/src/amd_defaults.o build/temp.macosx-10.9-universal2-cpython-39/ecos/external/amd/src/amd_dump.o build/temp.macosx-10.9-universal2-cpython-39/ecos/external/amd/src/amd_global.o build/temp.macosx-10.9-universal2-cpython-39/ecos/external/amd/src/amd_info.o build/temp.macosx-10.9-universal2-cpython-39/ecos/external/amd/src/amd_order.o build/temp.macosx-10.9-universal2-cpython-39/ecos/external/amd/src/amd_post_tree.o build/temp.macosx-10.9-universal2-cpython-39/ecos/external/amd/src/amd_postorder.o build/temp.macosx-10.9-universal2-cpython-39/ecos/external/amd/src/amd_preprocess.o build/temp.macosx-10.9-universal2-cpython-39/ecos/external/amd/src/amd_valid.o build/temp.macosx-10.9-universal2-cpython-39/ecos/external/ldl/src/ldl.o build/temp.macosx-10.9-universal2-cpython-39/ecos/src/cone.o build/temp.macosx-10.9-universal2-cpython-39/ecos/src/ctrlc.o build/temp.macosx-10.9-universal2-cpython-39/ecos/src/ecos.o build/temp.macosx-10.9-universal2-cpython-39/ecos/src/equil.o build/temp.macosx-10.9-universal2-cpython-39/ecos/src/expcone.o build/temp.macosx-10.9-universal2-cpython-39/ecos/src/kkt.o build/temp.macosx-10.9-universal2-cpython-39/ecos/src/preproc.o build/temp.macosx-10.9-universal2-cpython-39/ecos/src/spla.o build/temp.macosx-10.9-universal2-cpython-39/ecos/src/splamm.o build/temp.macosx-10.9-universal2-cpython-39/ecos/src/timer.o build/temp.macosx-10.9-universal2-cpython-39/ecos/src/wright_omega.o build/temp.macosx-10.9-universal2-cpython-39/src/ecosmodule.o -o build/lib.macosx-10.9-universal2-cpython-39/_ecos.cpython-39-darwin.so\n",
      "  \u001b[31m   \u001b[0m ld: warning: -pie being ignored. It is only used when linking a main executable\n",
      "  \u001b[31m   \u001b[0m ld: warning: -pie being ignored. It is only used when linking a main executable\n",
      "  \u001b[31m   \u001b[0m ld: can't re-map file, errno=22 file 'build/temp.macosx-10.9-universal2-cpython-39/ecos/ecos_bb/ecos_bb_preproc.o' for architecture x86_64\n",
      "  \u001b[31m   \u001b[0m clang-14: error: linker command failed with exit code 1 (use -v to see invocation)\n",
      "  \u001b[31m   \u001b[0m error: command '/opt/anaconda3/bin/arm64-apple-darwin20.0.0-clang' failed with exit code 1\n",
      "  \u001b[31m   \u001b[0m \u001b[31m[end of output]\u001b[0m\n",
      "  \n",
      "  \u001b[1;35mnote\u001b[0m: This error originates from a subprocess, and is likely not a problem with pip.\n",
      "\u001b[?25h\u001b[31m  ERROR: Failed building wheel for ecos\u001b[0m\u001b[31m\n",
      "\u001b[0mFailed to build ecos\n",
      "\u001b[31mERROR: ERROR: Failed to build installable wheels for some pyproject.toml based projects (ecos)\u001b[0m\u001b[31m\n",
      "\u001b[0mRequirement already satisfied: streamlit in /Users/olgamordachova/PycharmProjects/pythonProject/.venv/lib/python3.9/site-packages (1.39.0)\n",
      "Requirement already satisfied: altair<6,>=4.0 in /Users/olgamordachova/PycharmProjects/pythonProject/.venv/lib/python3.9/site-packages (from streamlit) (5.4.1)\n",
      "Requirement already satisfied: blinker<2,>=1.0.0 in /Users/olgamordachova/PycharmProjects/pythonProject/.venv/lib/python3.9/site-packages (from streamlit) (1.8.2)\n",
      "Requirement already satisfied: cachetools<6,>=4.0 in /Users/olgamordachova/PycharmProjects/pythonProject/.venv/lib/python3.9/site-packages (from streamlit) (5.5.0)\n",
      "Requirement already satisfied: click<9,>=7.0 in /Users/olgamordachova/PycharmProjects/pythonProject/.venv/lib/python3.9/site-packages (from streamlit) (8.1.7)\n",
      "Requirement already satisfied: numpy<3,>=1.20 in /Users/olgamordachova/PycharmProjects/pythonProject/.venv/lib/python3.9/site-packages (from streamlit) (1.26.4)\n",
      "Requirement already satisfied: packaging<25,>=20 in /Users/olgamordachova/PycharmProjects/pythonProject/.venv/lib/python3.9/site-packages (from streamlit) (24.0)\n",
      "Requirement already satisfied: pandas<3,>=1.4.0 in /Users/olgamordachova/PycharmProjects/pythonProject/.venv/lib/python3.9/site-packages (from streamlit) (2.2.3)\n",
      "Requirement already satisfied: pillow<11,>=7.1.0 in /Users/olgamordachova/PycharmProjects/pythonProject/.venv/lib/python3.9/site-packages (from streamlit) (10.3.0)\n",
      "Requirement already satisfied: protobuf<6,>=3.20 in /Users/olgamordachova/PycharmProjects/pythonProject/.venv/lib/python3.9/site-packages (from streamlit) (5.28.3)\n",
      "Requirement already satisfied: pyarrow>=7.0 in /Users/olgamordachova/PycharmProjects/pythonProject/.venv/lib/python3.9/site-packages (from streamlit) (17.0.0)\n",
      "Requirement already satisfied: requests<3,>=2.27 in /Users/olgamordachova/PycharmProjects/pythonProject/.venv/lib/python3.9/site-packages (from streamlit) (2.32.3)\n",
      "Requirement already satisfied: rich<14,>=10.14.0 in /Users/olgamordachova/PycharmProjects/pythonProject/.venv/lib/python3.9/site-packages (from streamlit) (13.9.3)\n",
      "Requirement already satisfied: tenacity<10,>=8.1.0 in /Users/olgamordachova/PycharmProjects/pythonProject/.venv/lib/python3.9/site-packages (from streamlit) (9.0.0)\n",
      "Requirement already satisfied: toml<2,>=0.10.1 in /Users/olgamordachova/PycharmProjects/pythonProject/.venv/lib/python3.9/site-packages (from streamlit) (0.10.2)\n",
      "Requirement already satisfied: typing-extensions<5,>=4.3.0 in /Users/olgamordachova/PycharmProjects/pythonProject/.venv/lib/python3.9/site-packages (from streamlit) (4.12.2)\n",
      "Requirement already satisfied: gitpython!=3.1.19,<4,>=3.0.7 in /Users/olgamordachova/PycharmProjects/pythonProject/.venv/lib/python3.9/site-packages (from streamlit) (3.1.43)\n",
      "Requirement already satisfied: pydeck<1,>=0.8.0b4 in /Users/olgamordachova/PycharmProjects/pythonProject/.venv/lib/python3.9/site-packages (from streamlit) (0.9.1)\n",
      "Requirement already satisfied: tornado<7,>=6.0.3 in /Users/olgamordachova/PycharmProjects/pythonProject/.venv/lib/python3.9/site-packages (from streamlit) (6.4.1)\n",
      "Requirement already satisfied: jinja2 in /Users/olgamordachova/PycharmProjects/pythonProject/.venv/lib/python3.9/site-packages (from altair<6,>=4.0->streamlit) (3.1.4)\n",
      "Requirement already satisfied: jsonschema>=3.0 in /Users/olgamordachova/PycharmProjects/pythonProject/.venv/lib/python3.9/site-packages (from altair<6,>=4.0->streamlit) (4.23.0)\n",
      "Requirement already satisfied: narwhals>=1.5.2 in /Users/olgamordachova/PycharmProjects/pythonProject/.venv/lib/python3.9/site-packages (from altair<6,>=4.0->streamlit) (1.10.0)\n",
      "Requirement already satisfied: gitdb<5,>=4.0.1 in /Users/olgamordachova/PycharmProjects/pythonProject/.venv/lib/python3.9/site-packages (from gitpython!=3.1.19,<4,>=3.0.7->streamlit) (4.0.11)\n",
      "Requirement already satisfied: python-dateutil>=2.8.2 in /Users/olgamordachova/PycharmProjects/pythonProject/.venv/lib/python3.9/site-packages (from pandas<3,>=1.4.0->streamlit) (2.9.0.post0)\n",
      "Requirement already satisfied: pytz>=2020.1 in /Users/olgamordachova/PycharmProjects/pythonProject/.venv/lib/python3.9/site-packages (from pandas<3,>=1.4.0->streamlit) (2024.2)\n",
      "Requirement already satisfied: tzdata>=2022.7 in /Users/olgamordachova/PycharmProjects/pythonProject/.venv/lib/python3.9/site-packages (from pandas<3,>=1.4.0->streamlit) (2024.2)\n",
      "Requirement already satisfied: charset-normalizer<4,>=2 in /Users/olgamordachova/PycharmProjects/pythonProject/.venv/lib/python3.9/site-packages (from requests<3,>=2.27->streamlit) (3.4.0)\n",
      "Requirement already satisfied: idna<4,>=2.5 in /Users/olgamordachova/PycharmProjects/pythonProject/.venv/lib/python3.9/site-packages (from requests<3,>=2.27->streamlit) (3.10)\n",
      "Requirement already satisfied: urllib3<3,>=1.21.1 in /Users/olgamordachova/PycharmProjects/pythonProject/.venv/lib/python3.9/site-packages (from requests<3,>=2.27->streamlit) (2.2.3)\n",
      "Requirement already satisfied: certifi>=2017.4.17 in /Users/olgamordachova/PycharmProjects/pythonProject/.venv/lib/python3.9/site-packages (from requests<3,>=2.27->streamlit) (2024.8.30)\n",
      "Requirement already satisfied: markdown-it-py>=2.2.0 in /Users/olgamordachova/PycharmProjects/pythonProject/.venv/lib/python3.9/site-packages (from rich<14,>=10.14.0->streamlit) (3.0.0)\n",
      "Requirement already satisfied: pygments<3.0.0,>=2.13.0 in /Users/olgamordachova/PycharmProjects/pythonProject/.venv/lib/python3.9/site-packages (from rich<14,>=10.14.0->streamlit) (2.18.0)\n",
      "Requirement already satisfied: smmap<6,>=3.0.1 in /Users/olgamordachova/PycharmProjects/pythonProject/.venv/lib/python3.9/site-packages (from gitdb<5,>=4.0.1->gitpython!=3.1.19,<4,>=3.0.7->streamlit) (5.0.1)\n",
      "Requirement already satisfied: MarkupSafe>=2.0 in /Users/olgamordachova/PycharmProjects/pythonProject/.venv/lib/python3.9/site-packages (from jinja2->altair<6,>=4.0->streamlit) (2.1.5)\n",
      "Requirement already satisfied: attrs>=22.2.0 in /Users/olgamordachova/PycharmProjects/pythonProject/.venv/lib/python3.9/site-packages (from jsonschema>=3.0->altair<6,>=4.0->streamlit) (24.2.0)\n",
      "Requirement already satisfied: jsonschema-specifications>=2023.03.6 in /Users/olgamordachova/PycharmProjects/pythonProject/.venv/lib/python3.9/site-packages (from jsonschema>=3.0->altair<6,>=4.0->streamlit) (2024.10.1)\n",
      "Requirement already satisfied: referencing>=0.28.4 in /Users/olgamordachova/PycharmProjects/pythonProject/.venv/lib/python3.9/site-packages (from jsonschema>=3.0->altair<6,>=4.0->streamlit) (0.35.1)\n",
      "Requirement already satisfied: rpds-py>=0.7.1 in /Users/olgamordachova/PycharmProjects/pythonProject/.venv/lib/python3.9/site-packages (from jsonschema>=3.0->altair<6,>=4.0->streamlit) (0.20.0)\n",
      "Requirement already satisfied: mdurl~=0.1 in /Users/olgamordachova/PycharmProjects/pythonProject/.venv/lib/python3.9/site-packages (from markdown-it-py>=2.2.0->rich<14,>=10.14.0->streamlit) (0.1.2)\n",
      "Requirement already satisfied: six>=1.5 in /Users/olgamordachova/PycharmProjects/pythonProject/.venv/lib/python3.9/site-packages (from python-dateutil>=2.8.2->pandas<3,>=1.4.0->streamlit) (1.16.0)\n",
      "Requirement already satisfied: joblib==1.4.2 in /Users/olgamordachova/PycharmProjects/pythonProject/.venv/lib/python3.9/site-packages (1.4.2)\n",
      "Collecting seaborn\n",
      "  Downloading seaborn-0.13.2-py3-none-any.whl.metadata (5.4 kB)\n",
      "Requirement already satisfied: numpy!=1.24.0,>=1.20 in /Users/olgamordachova/PycharmProjects/pythonProject/.venv/lib/python3.9/site-packages (from seaborn) (1.26.4)\n",
      "Requirement already satisfied: pandas>=1.2 in /Users/olgamordachova/PycharmProjects/pythonProject/.venv/lib/python3.9/site-packages (from seaborn) (2.2.3)\n",
      "Requirement already satisfied: matplotlib!=3.6.1,>=3.4 in /Users/olgamordachova/PycharmProjects/pythonProject/.venv/lib/python3.9/site-packages (from seaborn) (3.9.2)\n",
      "Requirement already satisfied: contourpy>=1.0.1 in /Users/olgamordachova/PycharmProjects/pythonProject/.venv/lib/python3.9/site-packages (from matplotlib!=3.6.1,>=3.4->seaborn) (1.2.1)\n",
      "Requirement already satisfied: cycler>=0.10 in /Users/olgamordachova/PycharmProjects/pythonProject/.venv/lib/python3.9/site-packages (from matplotlib!=3.6.1,>=3.4->seaborn) (0.12.1)\n",
      "Requirement already satisfied: fonttools>=4.22.0 in /Users/olgamordachova/PycharmProjects/pythonProject/.venv/lib/python3.9/site-packages (from matplotlib!=3.6.1,>=3.4->seaborn) (4.51.0)\n",
      "Requirement already satisfied: kiwisolver>=1.3.1 in /Users/olgamordachova/PycharmProjects/pythonProject/.venv/lib/python3.9/site-packages (from matplotlib!=3.6.1,>=3.4->seaborn) (1.4.5)\n",
      "Requirement already satisfied: packaging>=20.0 in /Users/olgamordachova/PycharmProjects/pythonProject/.venv/lib/python3.9/site-packages (from matplotlib!=3.6.1,>=3.4->seaborn) (24.0)\n",
      "Requirement already satisfied: pillow>=8 in /Users/olgamordachova/PycharmProjects/pythonProject/.venv/lib/python3.9/site-packages (from matplotlib!=3.6.1,>=3.4->seaborn) (10.3.0)\n",
      "Requirement already satisfied: pyparsing>=2.3.1 in /Users/olgamordachova/PycharmProjects/pythonProject/.venv/lib/python3.9/site-packages (from matplotlib!=3.6.1,>=3.4->seaborn) (3.1.2)\n",
      "Requirement already satisfied: python-dateutil>=2.7 in /Users/olgamordachova/PycharmProjects/pythonProject/.venv/lib/python3.9/site-packages (from matplotlib!=3.6.1,>=3.4->seaborn) (2.9.0.post0)\n",
      "Requirement already satisfied: importlib-resources>=3.2.0 in /Users/olgamordachova/PycharmProjects/pythonProject/.venv/lib/python3.9/site-packages (from matplotlib!=3.6.1,>=3.4->seaborn) (6.4.0)\n",
      "Requirement already satisfied: pytz>=2020.1 in /Users/olgamordachova/PycharmProjects/pythonProject/.venv/lib/python3.9/site-packages (from pandas>=1.2->seaborn) (2024.2)\n",
      "Requirement already satisfied: tzdata>=2022.7 in /Users/olgamordachova/PycharmProjects/pythonProject/.venv/lib/python3.9/site-packages (from pandas>=1.2->seaborn) (2024.2)\n",
      "Requirement already satisfied: zipp>=3.1.0 in /Users/olgamordachova/PycharmProjects/pythonProject/.venv/lib/python3.9/site-packages (from importlib-resources>=3.2.0->matplotlib!=3.6.1,>=3.4->seaborn) (3.18.1)\n",
      "Requirement already satisfied: six>=1.5 in /Users/olgamordachova/PycharmProjects/pythonProject/.venv/lib/python3.9/site-packages (from python-dateutil>=2.7->matplotlib!=3.6.1,>=3.4->seaborn) (1.16.0)\n",
      "Downloading seaborn-0.13.2-py3-none-any.whl (294 kB)\n",
      "Installing collected packages: seaborn\n",
      "Successfully installed seaborn-0.13.2\n"
     ]
    }
   ],
   "source": [
    "!pip install fancyimpute\n",
    "!pip install streamlit\n",
    "!pip install joblib==1.4.2\n",
    "!pip install seaborn"
   ]
  },
  {
   "cell_type": "code",
   "execution_count": 4,
   "metadata": {},
   "outputs": [
    {
     "name": "stdout",
     "output_type": "stream",
     "text": [
      "The autoreload extension is already loaded. To reload it, use:\n",
      "  %reload_ext autoreload\n"
     ]
    }
   ],
   "source": [
    "%load_ext autoreload\n",
    "%autoreload 2\n",
    "import matplotlib.pyplot as plt\n",
    "import seaborn as sns\n",
    "import pandas as pd\n",
    "import numpy as np\n",
    "import matplotlib\n",
    "import joblib\n",
    "import imblearn\n",
    "from scripts.aussie_rain import *\n",
    "from scripts.train import *\n",
    "from sklearn.model_selection import train_test_split\n",
    "from sklearn.tree import plot_tree, export_text\n",
    "%matplotlib inline\n",
    "\n",
    "\n",
    "pd.set_option('display.max_columns', None)\n",
    "pd.set_option('display.max_rows', 150)\n",
    "sns.set_style('darkgrid')\n",
    "matplotlib.rcParams['font.size'] = 14\n",
    "matplotlib.rcParams['figure.figsize'] = (10, 6)\n",
    "matplotlib.rcParams['figure.facecolor'] = '#00000000'"
   ]
  },
  {
   "cell_type": "markdown",
   "metadata": {},
   "source": [
    "Завантажую дані в датафрейм"
   ]
  },
  {
   "cell_type": "code",
   "execution_count": 5,
   "metadata": {},
   "outputs": [],
   "source": [
    "raw_df = pd.read_csv('data/weatherAUS.csv')"
   ]
  },
  {
   "cell_type": "code",
   "execution_count": 6,
   "metadata": {},
   "outputs": [
    {
     "data": {
      "text/html": [
       "<div>\n",
       "<style scoped>\n",
       "    .dataframe tbody tr th:only-of-type {\n",
       "        vertical-align: middle;\n",
       "    }\n",
       "\n",
       "    .dataframe tbody tr th {\n",
       "        vertical-align: top;\n",
       "    }\n",
       "\n",
       "    .dataframe thead th {\n",
       "        text-align: right;\n",
       "    }\n",
       "</style>\n",
       "<table border=\"1\" class=\"dataframe\">\n",
       "  <thead>\n",
       "    <tr style=\"text-align: right;\">\n",
       "      <th></th>\n",
       "      <th>Date</th>\n",
       "      <th>Location</th>\n",
       "      <th>MinTemp</th>\n",
       "      <th>MaxTemp</th>\n",
       "      <th>Rainfall</th>\n",
       "      <th>Evaporation</th>\n",
       "      <th>Sunshine</th>\n",
       "      <th>WindGustDir</th>\n",
       "      <th>WindGustSpeed</th>\n",
       "      <th>WindDir9am</th>\n",
       "      <th>WindDir3pm</th>\n",
       "      <th>WindSpeed9am</th>\n",
       "      <th>WindSpeed3pm</th>\n",
       "      <th>Humidity9am</th>\n",
       "      <th>Humidity3pm</th>\n",
       "      <th>Pressure9am</th>\n",
       "      <th>Pressure3pm</th>\n",
       "      <th>Cloud9am</th>\n",
       "      <th>Cloud3pm</th>\n",
       "      <th>Temp9am</th>\n",
       "      <th>Temp3pm</th>\n",
       "      <th>RainToday</th>\n",
       "      <th>RainTomorrow</th>\n",
       "    </tr>\n",
       "  </thead>\n",
       "  <tbody>\n",
       "    <tr>\n",
       "      <th>0</th>\n",
       "      <td>2008-12-01</td>\n",
       "      <td>Albury</td>\n",
       "      <td>13.4</td>\n",
       "      <td>22.9</td>\n",
       "      <td>0.6</td>\n",
       "      <td>NaN</td>\n",
       "      <td>NaN</td>\n",
       "      <td>W</td>\n",
       "      <td>44.0</td>\n",
       "      <td>W</td>\n",
       "      <td>WNW</td>\n",
       "      <td>20.0</td>\n",
       "      <td>24.0</td>\n",
       "      <td>71.0</td>\n",
       "      <td>22.0</td>\n",
       "      <td>1007.7</td>\n",
       "      <td>1007.1</td>\n",
       "      <td>8.0</td>\n",
       "      <td>NaN</td>\n",
       "      <td>16.9</td>\n",
       "      <td>21.8</td>\n",
       "      <td>No</td>\n",
       "      <td>No</td>\n",
       "    </tr>\n",
       "    <tr>\n",
       "      <th>1</th>\n",
       "      <td>2008-12-02</td>\n",
       "      <td>Albury</td>\n",
       "      <td>7.4</td>\n",
       "      <td>25.1</td>\n",
       "      <td>0.0</td>\n",
       "      <td>NaN</td>\n",
       "      <td>NaN</td>\n",
       "      <td>WNW</td>\n",
       "      <td>44.0</td>\n",
       "      <td>NNW</td>\n",
       "      <td>WSW</td>\n",
       "      <td>4.0</td>\n",
       "      <td>22.0</td>\n",
       "      <td>44.0</td>\n",
       "      <td>25.0</td>\n",
       "      <td>1010.6</td>\n",
       "      <td>1007.8</td>\n",
       "      <td>NaN</td>\n",
       "      <td>NaN</td>\n",
       "      <td>17.2</td>\n",
       "      <td>24.3</td>\n",
       "      <td>No</td>\n",
       "      <td>No</td>\n",
       "    </tr>\n",
       "    <tr>\n",
       "      <th>2</th>\n",
       "      <td>2008-12-03</td>\n",
       "      <td>Albury</td>\n",
       "      <td>12.9</td>\n",
       "      <td>25.7</td>\n",
       "      <td>0.0</td>\n",
       "      <td>NaN</td>\n",
       "      <td>NaN</td>\n",
       "      <td>WSW</td>\n",
       "      <td>46.0</td>\n",
       "      <td>W</td>\n",
       "      <td>WSW</td>\n",
       "      <td>19.0</td>\n",
       "      <td>26.0</td>\n",
       "      <td>38.0</td>\n",
       "      <td>30.0</td>\n",
       "      <td>1007.6</td>\n",
       "      <td>1008.7</td>\n",
       "      <td>NaN</td>\n",
       "      <td>2.0</td>\n",
       "      <td>21.0</td>\n",
       "      <td>23.2</td>\n",
       "      <td>No</td>\n",
       "      <td>No</td>\n",
       "    </tr>\n",
       "    <tr>\n",
       "      <th>3</th>\n",
       "      <td>2008-12-04</td>\n",
       "      <td>Albury</td>\n",
       "      <td>9.2</td>\n",
       "      <td>28.0</td>\n",
       "      <td>0.0</td>\n",
       "      <td>NaN</td>\n",
       "      <td>NaN</td>\n",
       "      <td>NE</td>\n",
       "      <td>24.0</td>\n",
       "      <td>SE</td>\n",
       "      <td>E</td>\n",
       "      <td>11.0</td>\n",
       "      <td>9.0</td>\n",
       "      <td>45.0</td>\n",
       "      <td>16.0</td>\n",
       "      <td>1017.6</td>\n",
       "      <td>1012.8</td>\n",
       "      <td>NaN</td>\n",
       "      <td>NaN</td>\n",
       "      <td>18.1</td>\n",
       "      <td>26.5</td>\n",
       "      <td>No</td>\n",
       "      <td>No</td>\n",
       "    </tr>\n",
       "    <tr>\n",
       "      <th>4</th>\n",
       "      <td>2008-12-05</td>\n",
       "      <td>Albury</td>\n",
       "      <td>17.5</td>\n",
       "      <td>32.3</td>\n",
       "      <td>1.0</td>\n",
       "      <td>NaN</td>\n",
       "      <td>NaN</td>\n",
       "      <td>W</td>\n",
       "      <td>41.0</td>\n",
       "      <td>ENE</td>\n",
       "      <td>NW</td>\n",
       "      <td>7.0</td>\n",
       "      <td>20.0</td>\n",
       "      <td>82.0</td>\n",
       "      <td>33.0</td>\n",
       "      <td>1010.8</td>\n",
       "      <td>1006.0</td>\n",
       "      <td>7.0</td>\n",
       "      <td>8.0</td>\n",
       "      <td>17.8</td>\n",
       "      <td>29.7</td>\n",
       "      <td>No</td>\n",
       "      <td>No</td>\n",
       "    </tr>\n",
       "  </tbody>\n",
       "</table>\n",
       "</div>"
      ],
      "text/plain": [
       "         Date Location  MinTemp  MaxTemp  Rainfall  Evaporation  Sunshine  \\\n",
       "0  2008-12-01   Albury     13.4     22.9       0.6          NaN       NaN   \n",
       "1  2008-12-02   Albury      7.4     25.1       0.0          NaN       NaN   \n",
       "2  2008-12-03   Albury     12.9     25.7       0.0          NaN       NaN   \n",
       "3  2008-12-04   Albury      9.2     28.0       0.0          NaN       NaN   \n",
       "4  2008-12-05   Albury     17.5     32.3       1.0          NaN       NaN   \n",
       "\n",
       "  WindGustDir  WindGustSpeed WindDir9am WindDir3pm  WindSpeed9am  \\\n",
       "0           W           44.0          W        WNW          20.0   \n",
       "1         WNW           44.0        NNW        WSW           4.0   \n",
       "2         WSW           46.0          W        WSW          19.0   \n",
       "3          NE           24.0         SE          E          11.0   \n",
       "4           W           41.0        ENE         NW           7.0   \n",
       "\n",
       "   WindSpeed3pm  Humidity9am  Humidity3pm  Pressure9am  Pressure3pm  Cloud9am  \\\n",
       "0          24.0         71.0         22.0       1007.7       1007.1       8.0   \n",
       "1          22.0         44.0         25.0       1010.6       1007.8       NaN   \n",
       "2          26.0         38.0         30.0       1007.6       1008.7       NaN   \n",
       "3           9.0         45.0         16.0       1017.6       1012.8       NaN   \n",
       "4          20.0         82.0         33.0       1010.8       1006.0       7.0   \n",
       "\n",
       "   Cloud3pm  Temp9am  Temp3pm RainToday RainTomorrow  \n",
       "0       NaN     16.9     21.8        No           No  \n",
       "1       NaN     17.2     24.3        No           No  \n",
       "2       2.0     21.0     23.2        No           No  \n",
       "3       NaN     18.1     26.5        No           No  \n",
       "4       8.0     17.8     29.7        No           No  "
      ]
     },
     "execution_count": 6,
     "metadata": {},
     "output_type": "execute_result"
    }
   ],
   "source": [
    "raw_df.head()"
   ]
  },
  {
   "cell_type": "code",
   "execution_count": 9,
   "metadata": {},
   "outputs": [
    {
     "name": "stdout",
     "output_type": "stream",
     "text": [
      "<class 'pandas.core.frame.DataFrame'>\n",
      "Index: 140787 entries, 0 to 145458\n",
      "Data columns (total 23 columns):\n",
      " #   Column         Non-Null Count   Dtype  \n",
      "---  ------         --------------   -----  \n",
      " 0   Date           140787 non-null  object \n",
      " 1   Location       140787 non-null  object \n",
      " 2   MinTemp        140319 non-null  float64\n",
      " 3   MaxTemp        140480 non-null  float64\n",
      " 4   Rainfall       140787 non-null  float64\n",
      " 5   Evaporation    81093 non-null   float64\n",
      " 6   Sunshine       73982 non-null   float64\n",
      " 7   WindGustDir    131624 non-null  object \n",
      " 8   WindGustSpeed  131682 non-null  float64\n",
      " 9   WindDir9am     131127 non-null  object \n",
      " 10  WindDir3pm     137117 non-null  object \n",
      " 11  WindSpeed9am   139732 non-null  float64\n",
      " 12  WindSpeed3pm   138256 non-null  float64\n",
      " 13  Humidity9am    139270 non-null  float64\n",
      " 14  Humidity3pm    137286 non-null  float64\n",
      " 15  Pressure9am    127044 non-null  float64\n",
      " 16  Pressure3pm    127018 non-null  float64\n",
      " 17  Cloud9am       88162 non-null   float64\n",
      " 18  Cloud3pm       84693 non-null   float64\n",
      " 19  Temp9am        140131 non-null  float64\n",
      " 20  Temp3pm        138163 non-null  float64\n",
      " 21  RainToday      140787 non-null  object \n",
      " 22  RainTomorrow   140787 non-null  object \n",
      "dtypes: float64(16), object(7)\n",
      "memory usage: 25.8+ MB\n"
     ]
    }
   ],
   "source": [
    "raw_df.info()"
   ]
  },
  {
   "cell_type": "markdown",
   "metadata": {},
   "source": [
    "В датасеті є 145460 рядків, так як RainTomorrow є цільовою змінною, то незапонені рядки нам не потрібні для навчання, а отже їх потрібно видалити"
   ]
  },
  {
   "cell_type": "code",
   "execution_count": 7,
   "metadata": {},
   "outputs": [],
   "source": [
    "raw_df.dropna(subset=['RainToday', 'RainTomorrow'], inplace=True)"
   ]
  },
  {
   "cell_type": "code",
   "execution_count": 8,
   "metadata": {},
   "outputs": [
    {
     "name": "stdout",
     "output_type": "stream",
     "text": [
      "<class 'pandas.core.frame.DataFrame'>\n",
      "Index: 140787 entries, 0 to 145458\n",
      "Data columns (total 23 columns):\n",
      " #   Column         Non-Null Count   Dtype  \n",
      "---  ------         --------------   -----  \n",
      " 0   Date           140787 non-null  object \n",
      " 1   Location       140787 non-null  object \n",
      " 2   MinTemp        140319 non-null  float64\n",
      " 3   MaxTemp        140480 non-null  float64\n",
      " 4   Rainfall       140787 non-null  float64\n",
      " 5   Evaporation    81093 non-null   float64\n",
      " 6   Sunshine       73982 non-null   float64\n",
      " 7   WindGustDir    131624 non-null  object \n",
      " 8   WindGustSpeed  131682 non-null  float64\n",
      " 9   WindDir9am     131127 non-null  object \n",
      " 10  WindDir3pm     137117 non-null  object \n",
      " 11  WindSpeed9am   139732 non-null  float64\n",
      " 12  WindSpeed3pm   138256 non-null  float64\n",
      " 13  Humidity9am    139270 non-null  float64\n",
      " 14  Humidity3pm    137286 non-null  float64\n",
      " 15  Pressure9am    127044 non-null  float64\n",
      " 16  Pressure3pm    127018 non-null  float64\n",
      " 17  Cloud9am       88162 non-null   float64\n",
      " 18  Cloud3pm       84693 non-null   float64\n",
      " 19  Temp9am        140131 non-null  float64\n",
      " 20  Temp3pm        138163 non-null  float64\n",
      " 21  RainToday      140787 non-null  object \n",
      " 22  RainTomorrow   140787 non-null  object \n",
      "dtypes: float64(16), object(7)\n",
      "memory usage: 25.8+ MB\n"
     ]
    }
   ],
   "source": [
    "raw_df.info()"
   ]
  },
  {
   "cell_type": "markdown",
   "metadata": {},
   "source": [
    "В даному варіанті вирішення задачі колонка дата не є важливою, так як не використовуються часові ряди і взаємозалежності даних в даті, хоча наприклад місяць може мати значення для ймовірності дощу, тому місяць додам новою фічею"
   ]
  },
  {
   "cell_type": "code",
   "execution_count": 10,
   "metadata": {},
   "outputs": [
    {
     "data": {
      "text/plain": [
       "RainTomorrow\n",
       "No     109586\n",
       "Yes     31201\n",
       "Name: count, dtype: int64"
      ]
     },
     "execution_count": 10,
     "metadata": {},
     "output_type": "execute_result"
    }
   ],
   "source": [
    "raw_df.RainTomorrow.value_counts()"
   ]
  },
  {
   "cell_type": "markdown",
   "metadata": {
    "vscode": {
     "languageId": "bat"
    }
   },
   "source": [
    "Бачимо незбалансовані класи, а для навчання дерев краще все ж використовувати збалансовані класи"
   ]
  },
  {
   "cell_type": "code",
   "execution_count": 11,
   "metadata": {},
   "outputs": [
    {
     "name": "stdout",
     "output_type": "stream",
     "text": [
      "<class 'pandas.core.frame.DataFrame'>\n",
      "Index: 140787 entries, 0 to 145458\n",
      "Data columns (total 23 columns):\n",
      " #   Column         Non-Null Count   Dtype  \n",
      "---  ------         --------------   -----  \n",
      " 0   Date           140787 non-null  object \n",
      " 1   Location       140787 non-null  object \n",
      " 2   MinTemp        140319 non-null  float64\n",
      " 3   MaxTemp        140480 non-null  float64\n",
      " 4   Rainfall       140787 non-null  float64\n",
      " 5   Evaporation    81093 non-null   float64\n",
      " 6   Sunshine       73982 non-null   float64\n",
      " 7   WindGustDir    131624 non-null  object \n",
      " 8   WindGustSpeed  131682 non-null  float64\n",
      " 9   WindDir9am     131127 non-null  object \n",
      " 10  WindDir3pm     137117 non-null  object \n",
      " 11  WindSpeed9am   139732 non-null  float64\n",
      " 12  WindSpeed3pm   138256 non-null  float64\n",
      " 13  Humidity9am    139270 non-null  float64\n",
      " 14  Humidity3pm    137286 non-null  float64\n",
      " 15  Pressure9am    127044 non-null  float64\n",
      " 16  Pressure3pm    127018 non-null  float64\n",
      " 17  Cloud9am       88162 non-null   float64\n",
      " 18  Cloud3pm       84693 non-null   float64\n",
      " 19  Temp9am        140131 non-null  float64\n",
      " 20  Temp3pm        138163 non-null  float64\n",
      " 21  RainToday      140787 non-null  object \n",
      " 22  RainTomorrow   140787 non-null  object \n",
      "dtypes: float64(16), object(7)\n",
      "memory usage: 25.8+ MB\n"
     ]
    }
   ],
   "source": [
    "raw_df.info()"
   ]
  },
  {
   "cell_type": "markdown",
   "metadata": {},
   "source": [
    "Робимо препроцессинг - а саме - скейлимо числові колонки, крім значення місяця і показника дощу сьогодні, кодуємо категоріальні колонки, балансуємо класи з допомогою SMOTE"
   ]
  },
  {
   "cell_type": "code",
   "execution_count": 13,
   "metadata": {},
   "outputs": [
    {
     "name": "stderr",
     "output_type": "stream",
     "text": [
      "/Users/olgamordachova/PycharmProjects/portfolio/aussie/scripts/aussie_rain.py:85: FutureWarning: Downcasting behavior in `replace` is deprecated and will be removed in a future version. To retain the old behavior, explicitly call `result.infer_objects(copy=False)`. To opt-in to the future behavior, set `pd.set_option('future.no_silent_downcasting', True)`\n",
      "  data['RainToday'] = data['RainToday'].replace({'Yes': 1, 'No': 0})\n",
      "/Users/olgamordachova/PycharmProjects/portfolio/aussie/scripts/aussie_rain.py:87: FutureWarning: Downcasting behavior in `replace` is deprecated and will be removed in a future version. To retain the old behavior, explicitly call `result.infer_objects(copy=False)`. To opt-in to the future behavior, set `pd.set_option('future.no_silent_downcasting', True)`\n",
      "  data['RainTomorrow'] = data['RainTomorrow'].replace({'Yes': 1, 'No': 0})\n",
      "/Users/olgamordachova/PycharmProjects/portfolio/aussie/scripts/aussie_rain.py:75: PerformanceWarning: DataFrame is highly fragmented.  This is usually the result of calling `frame.insert` many times, which has poor performance.  Consider joining all columns at once using pd.concat(axis=1) instead. To get a de-fragmented frame, use `newframe = frame.copy()`\n",
      "  inputs_train[categories_encoded_cols] = encoderObj.transform(inputs_train[categorical_cols])\n",
      "/Users/olgamordachova/PycharmProjects/portfolio/aussie/scripts/aussie_rain.py:75: PerformanceWarning: DataFrame is highly fragmented.  This is usually the result of calling `frame.insert` many times, which has poor performance.  Consider joining all columns at once using pd.concat(axis=1) instead. To get a de-fragmented frame, use `newframe = frame.copy()`\n",
      "  inputs_train[categories_encoded_cols] = encoderObj.transform(inputs_train[categorical_cols])\n",
      "/Users/olgamordachova/PycharmProjects/portfolio/aussie/scripts/aussie_rain.py:75: PerformanceWarning: DataFrame is highly fragmented.  This is usually the result of calling `frame.insert` many times, which has poor performance.  Consider joining all columns at once using pd.concat(axis=1) instead. To get a de-fragmented frame, use `newframe = frame.copy()`\n",
      "  inputs_train[categories_encoded_cols] = encoderObj.transform(inputs_train[categorical_cols])\n",
      "/Users/olgamordachova/PycharmProjects/portfolio/aussie/scripts/aussie_rain.py:75: PerformanceWarning: DataFrame is highly fragmented.  This is usually the result of calling `frame.insert` many times, which has poor performance.  Consider joining all columns at once using pd.concat(axis=1) instead. To get a de-fragmented frame, use `newframe = frame.copy()`\n",
      "  inputs_train[categories_encoded_cols] = encoderObj.transform(inputs_train[categorical_cols])\n",
      "/Users/olgamordachova/PycharmProjects/portfolio/aussie/scripts/aussie_rain.py:75: PerformanceWarning: DataFrame is highly fragmented.  This is usually the result of calling `frame.insert` many times, which has poor performance.  Consider joining all columns at once using pd.concat(axis=1) instead. To get a de-fragmented frame, use `newframe = frame.copy()`\n",
      "  inputs_train[categories_encoded_cols] = encoderObj.transform(inputs_train[categorical_cols])\n",
      "/Users/olgamordachova/PycharmProjects/portfolio/aussie/scripts/aussie_rain.py:75: PerformanceWarning: DataFrame is highly fragmented.  This is usually the result of calling `frame.insert` many times, which has poor performance.  Consider joining all columns at once using pd.concat(axis=1) instead. To get a de-fragmented frame, use `newframe = frame.copy()`\n",
      "  inputs_train[categories_encoded_cols] = encoderObj.transform(inputs_train[categorical_cols])\n",
      "/Users/olgamordachova/PycharmProjects/portfolio/aussie/scripts/aussie_rain.py:75: PerformanceWarning: DataFrame is highly fragmented.  This is usually the result of calling `frame.insert` many times, which has poor performance.  Consider joining all columns at once using pd.concat(axis=1) instead. To get a de-fragmented frame, use `newframe = frame.copy()`\n",
      "  inputs_train[categories_encoded_cols] = encoderObj.transform(inputs_train[categorical_cols])\n",
      "/Users/olgamordachova/PycharmProjects/portfolio/aussie/scripts/aussie_rain.py:75: PerformanceWarning: DataFrame is highly fragmented.  This is usually the result of calling `frame.insert` many times, which has poor performance.  Consider joining all columns at once using pd.concat(axis=1) instead. To get a de-fragmented frame, use `newframe = frame.copy()`\n",
      "  inputs_train[categories_encoded_cols] = encoderObj.transform(inputs_train[categorical_cols])\n",
      "/Users/olgamordachova/PycharmProjects/portfolio/aussie/scripts/aussie_rain.py:75: PerformanceWarning: DataFrame is highly fragmented.  This is usually the result of calling `frame.insert` many times, which has poor performance.  Consider joining all columns at once using pd.concat(axis=1) instead. To get a de-fragmented frame, use `newframe = frame.copy()`\n",
      "  inputs_train[categories_encoded_cols] = encoderObj.transform(inputs_train[categorical_cols])\n",
      "/Users/olgamordachova/PycharmProjects/portfolio/aussie/scripts/aussie_rain.py:75: PerformanceWarning: DataFrame is highly fragmented.  This is usually the result of calling `frame.insert` many times, which has poor performance.  Consider joining all columns at once using pd.concat(axis=1) instead. To get a de-fragmented frame, use `newframe = frame.copy()`\n",
      "  inputs_train[categories_encoded_cols] = encoderObj.transform(inputs_train[categorical_cols])\n",
      "/Users/olgamordachova/PycharmProjects/portfolio/aussie/scripts/aussie_rain.py:75: PerformanceWarning: DataFrame is highly fragmented.  This is usually the result of calling `frame.insert` many times, which has poor performance.  Consider joining all columns at once using pd.concat(axis=1) instead. To get a de-fragmented frame, use `newframe = frame.copy()`\n",
      "  inputs_train[categories_encoded_cols] = encoderObj.transform(inputs_train[categorical_cols])\n",
      "/Users/olgamordachova/PycharmProjects/portfolio/aussie/scripts/aussie_rain.py:75: PerformanceWarning: DataFrame is highly fragmented.  This is usually the result of calling `frame.insert` many times, which has poor performance.  Consider joining all columns at once using pd.concat(axis=1) instead. To get a de-fragmented frame, use `newframe = frame.copy()`\n",
      "  inputs_train[categories_encoded_cols] = encoderObj.transform(inputs_train[categorical_cols])\n",
      "/Users/olgamordachova/PycharmProjects/portfolio/aussie/scripts/aussie_rain.py:75: PerformanceWarning: DataFrame is highly fragmented.  This is usually the result of calling `frame.insert` many times, which has poor performance.  Consider joining all columns at once using pd.concat(axis=1) instead. To get a de-fragmented frame, use `newframe = frame.copy()`\n",
      "  inputs_train[categories_encoded_cols] = encoderObj.transform(inputs_train[categorical_cols])\n",
      "/Users/olgamordachova/PycharmProjects/portfolio/aussie/scripts/aussie_rain.py:75: PerformanceWarning: DataFrame is highly fragmented.  This is usually the result of calling `frame.insert` many times, which has poor performance.  Consider joining all columns at once using pd.concat(axis=1) instead. To get a de-fragmented frame, use `newframe = frame.copy()`\n",
      "  inputs_train[categories_encoded_cols] = encoderObj.transform(inputs_train[categorical_cols])\n",
      "/Users/olgamordachova/PycharmProjects/portfolio/aussie/scripts/aussie_rain.py:75: PerformanceWarning: DataFrame is highly fragmented.  This is usually the result of calling `frame.insert` many times, which has poor performance.  Consider joining all columns at once using pd.concat(axis=1) instead. To get a de-fragmented frame, use `newframe = frame.copy()`\n",
      "  inputs_train[categories_encoded_cols] = encoderObj.transform(inputs_train[categorical_cols])\n",
      "/Users/olgamordachova/PycharmProjects/portfolio/aussie/scripts/aussie_rain.py:75: PerformanceWarning: DataFrame is highly fragmented.  This is usually the result of calling `frame.insert` many times, which has poor performance.  Consider joining all columns at once using pd.concat(axis=1) instead. To get a de-fragmented frame, use `newframe = frame.copy()`\n",
      "  inputs_train[categories_encoded_cols] = encoderObj.transform(inputs_train[categorical_cols])\n",
      "/Users/olgamordachova/PycharmProjects/portfolio/aussie/scripts/aussie_rain.py:75: PerformanceWarning: DataFrame is highly fragmented.  This is usually the result of calling `frame.insert` many times, which has poor performance.  Consider joining all columns at once using pd.concat(axis=1) instead. To get a de-fragmented frame, use `newframe = frame.copy()`\n",
      "  inputs_train[categories_encoded_cols] = encoderObj.transform(inputs_train[categorical_cols])\n",
      "/Users/olgamordachova/PycharmProjects/portfolio/aussie/scripts/aussie_rain.py:75: PerformanceWarning: DataFrame is highly fragmented.  This is usually the result of calling `frame.insert` many times, which has poor performance.  Consider joining all columns at once using pd.concat(axis=1) instead. To get a de-fragmented frame, use `newframe = frame.copy()`\n",
      "  inputs_train[categories_encoded_cols] = encoderObj.transform(inputs_train[categorical_cols])\n",
      "/Users/olgamordachova/PycharmProjects/portfolio/aussie/scripts/aussie_rain.py:75: PerformanceWarning: DataFrame is highly fragmented.  This is usually the result of calling `frame.insert` many times, which has poor performance.  Consider joining all columns at once using pd.concat(axis=1) instead. To get a de-fragmented frame, use `newframe = frame.copy()`\n",
      "  inputs_train[categories_encoded_cols] = encoderObj.transform(inputs_train[categorical_cols])\n",
      "/Users/olgamordachova/PycharmProjects/portfolio/aussie/scripts/aussie_rain.py:76: PerformanceWarning: DataFrame is highly fragmented.  This is usually the result of calling `frame.insert` many times, which has poor performance.  Consider joining all columns at once using pd.concat(axis=1) instead. To get a de-fragmented frame, use `newframe = frame.copy()`\n",
      "  inputs_val[categories_encoded_cols] = encoderObj.transform(inputs_val[categorical_cols])\n",
      "/Users/olgamordachova/PycharmProjects/portfolio/aussie/scripts/aussie_rain.py:76: PerformanceWarning: DataFrame is highly fragmented.  This is usually the result of calling `frame.insert` many times, which has poor performance.  Consider joining all columns at once using pd.concat(axis=1) instead. To get a de-fragmented frame, use `newframe = frame.copy()`\n",
      "  inputs_val[categories_encoded_cols] = encoderObj.transform(inputs_val[categorical_cols])\n",
      "/Users/olgamordachova/PycharmProjects/portfolio/aussie/scripts/aussie_rain.py:76: PerformanceWarning: DataFrame is highly fragmented.  This is usually the result of calling `frame.insert` many times, which has poor performance.  Consider joining all columns at once using pd.concat(axis=1) instead. To get a de-fragmented frame, use `newframe = frame.copy()`\n",
      "  inputs_val[categories_encoded_cols] = encoderObj.transform(inputs_val[categorical_cols])\n",
      "/Users/olgamordachova/PycharmProjects/portfolio/aussie/scripts/aussie_rain.py:76: PerformanceWarning: DataFrame is highly fragmented.  This is usually the result of calling `frame.insert` many times, which has poor performance.  Consider joining all columns at once using pd.concat(axis=1) instead. To get a de-fragmented frame, use `newframe = frame.copy()`\n",
      "  inputs_val[categories_encoded_cols] = encoderObj.transform(inputs_val[categorical_cols])\n",
      "/Users/olgamordachova/PycharmProjects/portfolio/aussie/scripts/aussie_rain.py:76: PerformanceWarning: DataFrame is highly fragmented.  This is usually the result of calling `frame.insert` many times, which has poor performance.  Consider joining all columns at once using pd.concat(axis=1) instead. To get a de-fragmented frame, use `newframe = frame.copy()`\n",
      "  inputs_val[categories_encoded_cols] = encoderObj.transform(inputs_val[categorical_cols])\n",
      "/Users/olgamordachova/PycharmProjects/portfolio/aussie/scripts/aussie_rain.py:76: PerformanceWarning: DataFrame is highly fragmented.  This is usually the result of calling `frame.insert` many times, which has poor performance.  Consider joining all columns at once using pd.concat(axis=1) instead. To get a de-fragmented frame, use `newframe = frame.copy()`\n",
      "  inputs_val[categories_encoded_cols] = encoderObj.transform(inputs_val[categorical_cols])\n",
      "/Users/olgamordachova/PycharmProjects/portfolio/aussie/scripts/aussie_rain.py:76: PerformanceWarning: DataFrame is highly fragmented.  This is usually the result of calling `frame.insert` many times, which has poor performance.  Consider joining all columns at once using pd.concat(axis=1) instead. To get a de-fragmented frame, use `newframe = frame.copy()`\n",
      "  inputs_val[categories_encoded_cols] = encoderObj.transform(inputs_val[categorical_cols])\n",
      "/Users/olgamordachova/PycharmProjects/portfolio/aussie/scripts/aussie_rain.py:76: PerformanceWarning: DataFrame is highly fragmented.  This is usually the result of calling `frame.insert` many times, which has poor performance.  Consider joining all columns at once using pd.concat(axis=1) instead. To get a de-fragmented frame, use `newframe = frame.copy()`\n",
      "  inputs_val[categories_encoded_cols] = encoderObj.transform(inputs_val[categorical_cols])\n",
      "/Users/olgamordachova/PycharmProjects/portfolio/aussie/scripts/aussie_rain.py:76: PerformanceWarning: DataFrame is highly fragmented.  This is usually the result of calling `frame.insert` many times, which has poor performance.  Consider joining all columns at once using pd.concat(axis=1) instead. To get a de-fragmented frame, use `newframe = frame.copy()`\n",
      "  inputs_val[categories_encoded_cols] = encoderObj.transform(inputs_val[categorical_cols])\n",
      "/Users/olgamordachova/PycharmProjects/portfolio/aussie/scripts/aussie_rain.py:76: PerformanceWarning: DataFrame is highly fragmented.  This is usually the result of calling `frame.insert` many times, which has poor performance.  Consider joining all columns at once using pd.concat(axis=1) instead. To get a de-fragmented frame, use `newframe = frame.copy()`\n",
      "  inputs_val[categories_encoded_cols] = encoderObj.transform(inputs_val[categorical_cols])\n",
      "/Users/olgamordachova/PycharmProjects/portfolio/aussie/scripts/aussie_rain.py:76: PerformanceWarning: DataFrame is highly fragmented.  This is usually the result of calling `frame.insert` many times, which has poor performance.  Consider joining all columns at once using pd.concat(axis=1) instead. To get a de-fragmented frame, use `newframe = frame.copy()`\n",
      "  inputs_val[categories_encoded_cols] = encoderObj.transform(inputs_val[categorical_cols])\n",
      "/Users/olgamordachova/PycharmProjects/portfolio/aussie/scripts/aussie_rain.py:76: PerformanceWarning: DataFrame is highly fragmented.  This is usually the result of calling `frame.insert` many times, which has poor performance.  Consider joining all columns at once using pd.concat(axis=1) instead. To get a de-fragmented frame, use `newframe = frame.copy()`\n",
      "  inputs_val[categories_encoded_cols] = encoderObj.transform(inputs_val[categorical_cols])\n",
      "/Users/olgamordachova/PycharmProjects/portfolio/aussie/scripts/aussie_rain.py:76: PerformanceWarning: DataFrame is highly fragmented.  This is usually the result of calling `frame.insert` many times, which has poor performance.  Consider joining all columns at once using pd.concat(axis=1) instead. To get a de-fragmented frame, use `newframe = frame.copy()`\n",
      "  inputs_val[categories_encoded_cols] = encoderObj.transform(inputs_val[categorical_cols])\n",
      "/Users/olgamordachova/PycharmProjects/portfolio/aussie/scripts/aussie_rain.py:76: PerformanceWarning: DataFrame is highly fragmented.  This is usually the result of calling `frame.insert` many times, which has poor performance.  Consider joining all columns at once using pd.concat(axis=1) instead. To get a de-fragmented frame, use `newframe = frame.copy()`\n",
      "  inputs_val[categories_encoded_cols] = encoderObj.transform(inputs_val[categorical_cols])\n",
      "/Users/olgamordachova/PycharmProjects/portfolio/aussie/scripts/aussie_rain.py:76: PerformanceWarning: DataFrame is highly fragmented.  This is usually the result of calling `frame.insert` many times, which has poor performance.  Consider joining all columns at once using pd.concat(axis=1) instead. To get a de-fragmented frame, use `newframe = frame.copy()`\n",
      "  inputs_val[categories_encoded_cols] = encoderObj.transform(inputs_val[categorical_cols])\n",
      "/Users/olgamordachova/PycharmProjects/portfolio/aussie/scripts/aussie_rain.py:76: PerformanceWarning: DataFrame is highly fragmented.  This is usually the result of calling `frame.insert` many times, which has poor performance.  Consider joining all columns at once using pd.concat(axis=1) instead. To get a de-fragmented frame, use `newframe = frame.copy()`\n",
      "  inputs_val[categories_encoded_cols] = encoderObj.transform(inputs_val[categorical_cols])\n",
      "/Users/olgamordachova/PycharmProjects/portfolio/aussie/scripts/aussie_rain.py:76: PerformanceWarning: DataFrame is highly fragmented.  This is usually the result of calling `frame.insert` many times, which has poor performance.  Consider joining all columns at once using pd.concat(axis=1) instead. To get a de-fragmented frame, use `newframe = frame.copy()`\n",
      "  inputs_val[categories_encoded_cols] = encoderObj.transform(inputs_val[categorical_cols])\n",
      "/Users/olgamordachova/PycharmProjects/portfolio/aussie/scripts/aussie_rain.py:76: PerformanceWarning: DataFrame is highly fragmented.  This is usually the result of calling `frame.insert` many times, which has poor performance.  Consider joining all columns at once using pd.concat(axis=1) instead. To get a de-fragmented frame, use `newframe = frame.copy()`\n",
      "  inputs_val[categories_encoded_cols] = encoderObj.transform(inputs_val[categorical_cols])\n",
      "/Users/olgamordachova/PycharmProjects/portfolio/aussie/scripts/aussie_rain.py:76: PerformanceWarning: DataFrame is highly fragmented.  This is usually the result of calling `frame.insert` many times, which has poor performance.  Consider joining all columns at once using pd.concat(axis=1) instead. To get a de-fragmented frame, use `newframe = frame.copy()`\n",
      "  inputs_val[categories_encoded_cols] = encoderObj.transform(inputs_val[categorical_cols])\n",
      "/Users/olgamordachova/PycharmProjects/pythonProject/.venv/lib/python3.9/site-packages/sklearn/impute/_iterative.py:825: ConvergenceWarning: [IterativeImputer] Early stopping criterion not reached.\n",
      "  warnings.warn(\n"
     ]
    },
    {
     "name": "stdout",
     "output_type": "stream",
     "text": [
      "(175336, 118)\n"
     ]
    }
   ],
   "source": [
    "results = preprocess_data(raw_df, True)\n",
    "print(results['inputs_train'].shape)"
   ]
  },
  {
   "cell_type": "markdown",
   "metadata": {},
   "source": [
    "Тренуємо модельку"
   ]
  },
  {
   "cell_type": "code",
   "execution_count": 14,
   "metadata": {},
   "outputs": [],
   "source": [
    "model, train_score, val_score = trainModel(results, max_depth=8)"
   ]
  },
  {
   "cell_type": "code",
   "execution_count": 15,
   "metadata": {},
   "outputs": [
    {
     "name": "stdout",
     "output_type": "stream",
     "text": [
      "Train roc_auc_score 0.8178468768535839, \n",
      "Validation roc_auc_score 0.7678654530522859\n"
     ]
    }
   ],
   "source": [
    "print(f'Train roc_auc_score {train_score}, \\nValidation roc_auc_score {val_score}')"
   ]
  },
  {
   "cell_type": "code",
   "execution_count": 16,
   "metadata": {},
   "outputs": [
    {
     "data": {
      "text/plain": [
       "['model/aussie_rain.joblib']"
      ]
     },
     "execution_count": 16,
     "metadata": {},
     "output_type": "execute_result"
    }
   ],
   "source": [
    "joblib.dump(model, 'model/aussie_rain.joblib')"
   ]
  },
  {
   "cell_type": "markdown",
   "metadata": {},
   "source": [
    "Завантажимо збережену модель і будемо працювати вже з нею"
   ]
  },
  {
   "cell_type": "code",
   "execution_count": 17,
   "metadata": {},
   "outputs": [
    {
     "data": {
      "text/plain": [
       "{'ccp_alpha': 0.0,\n",
       " 'class_weight': None,\n",
       " 'criterion': 'gini',\n",
       " 'max_depth': 8,\n",
       " 'max_features': None,\n",
       " 'max_leaf_nodes': None,\n",
       " 'min_impurity_decrease': 0.0,\n",
       " 'min_samples_leaf': 1,\n",
       " 'min_samples_split': 2,\n",
       " 'min_weight_fraction_leaf': 0.0,\n",
       " 'monotonic_cst': None,\n",
       " 'random_state': 42,\n",
       " 'splitter': 'best'}"
      ]
     },
     "execution_count": 17,
     "metadata": {},
     "output_type": "execute_result"
    }
   ],
   "source": [
    "model2 = joblib.load('model/aussie_rain.joblib')\n",
    "model2.get_params()"
   ]
  },
  {
   "cell_type": "markdown",
   "metadata": {},
   "source": [
    "Виберемо, які параметри важливі для передбачень, щоб даьи змогу користувачу їх вводити на формі"
   ]
  },
  {
   "cell_type": "code",
   "execution_count": 18,
   "metadata": {},
   "outputs": [],
   "source": [
    "feature_importances = pd.DataFrame({\n",
    "    'column':model2.feature_names_in_,\n",
    "    'importance':model2.feature_importances_\n",
    "    })"
   ]
  },
  {
   "cell_type": "code",
   "execution_count": 19,
   "metadata": {},
   "outputs": [
    {
     "data": {
      "text/html": [
       "<div>\n",
       "<style scoped>\n",
       "    .dataframe tbody tr th:only-of-type {\n",
       "        vertical-align: middle;\n",
       "    }\n",
       "\n",
       "    .dataframe tbody tr th {\n",
       "        vertical-align: top;\n",
       "    }\n",
       "\n",
       "    .dataframe thead th {\n",
       "        text-align: right;\n",
       "    }\n",
       "</style>\n",
       "<table border=\"1\" class=\"dataframe\">\n",
       "  <thead>\n",
       "    <tr style=\"text-align: right;\">\n",
       "      <th></th>\n",
       "      <th>column</th>\n",
       "      <th>importance</th>\n",
       "    </tr>\n",
       "  </thead>\n",
       "  <tbody>\n",
       "    <tr>\n",
       "      <th>9</th>\n",
       "      <td>Humidity3pm</td>\n",
       "      <td>0.514202</td>\n",
       "    </tr>\n",
       "    <tr>\n",
       "      <th>2</th>\n",
       "      <td>Rainfall</td>\n",
       "      <td>0.120384</td>\n",
       "    </tr>\n",
       "    <tr>\n",
       "      <th>4</th>\n",
       "      <td>Sunshine</td>\n",
       "      <td>0.104156</td>\n",
       "    </tr>\n",
       "    <tr>\n",
       "      <th>11</th>\n",
       "      <td>Pressure3pm</td>\n",
       "      <td>0.087021</td>\n",
       "    </tr>\n",
       "    <tr>\n",
       "      <th>13</th>\n",
       "      <td>Cloud3pm</td>\n",
       "      <td>0.071325</td>\n",
       "    </tr>\n",
       "    <tr>\n",
       "      <th>5</th>\n",
       "      <td>WindGustSpeed</td>\n",
       "      <td>0.058399</td>\n",
       "    </tr>\n",
       "    <tr>\n",
       "      <th>17</th>\n",
       "      <td>month</td>\n",
       "      <td>0.007516</td>\n",
       "    </tr>\n",
       "    <tr>\n",
       "      <th>7</th>\n",
       "      <td>WindSpeed3pm</td>\n",
       "      <td>0.004383</td>\n",
       "    </tr>\n",
       "  </tbody>\n",
       "</table>\n",
       "</div>"
      ],
      "text/plain": [
       "           column  importance\n",
       "9     Humidity3pm    0.514202\n",
       "2        Rainfall    0.120384\n",
       "4        Sunshine    0.104156\n",
       "11    Pressure3pm    0.087021\n",
       "13       Cloud3pm    0.071325\n",
       "5   WindGustSpeed    0.058399\n",
       "17          month    0.007516\n",
       "7    WindSpeed3pm    0.004383"
      ]
     },
     "execution_count": 19,
     "metadata": {},
     "output_type": "execute_result"
    }
   ],
   "source": [
    "feature_importances.sort_values('importance', ascending=False).head(8)"
   ]
  },
  {
   "cell_type": "markdown",
   "metadata": {},
   "source": [
    "Проведу експеримент - якщо вибрати тільки ці 8 ознак з датафрейму і навчити на них модель - яка буде точність?"
   ]
  },
  {
   "cell_type": "code",
   "execution_count": 20,
   "metadata": {},
   "outputs": [],
   "source": [
    "valuable_cols = ['Humidity3pm', 'Rainfall', 'Sunshine', 'Pressure3pm', 'Cloud3pm', 'WindGustSpeed', 'Date', 'WindSpeed3pm', 'RainTomorrow']"
   ]
  },
  {
   "cell_type": "code",
   "execution_count": 21,
   "metadata": {},
   "outputs": [
    {
     "data": {
      "text/html": [
       "<div>\n",
       "<style scoped>\n",
       "    .dataframe tbody tr th:only-of-type {\n",
       "        vertical-align: middle;\n",
       "    }\n",
       "\n",
       "    .dataframe tbody tr th {\n",
       "        vertical-align: top;\n",
       "    }\n",
       "\n",
       "    .dataframe thead th {\n",
       "        text-align: right;\n",
       "    }\n",
       "</style>\n",
       "<table border=\"1\" class=\"dataframe\">\n",
       "  <thead>\n",
       "    <tr style=\"text-align: right;\">\n",
       "      <th></th>\n",
       "      <th>Humidity3pm</th>\n",
       "      <th>Rainfall</th>\n",
       "      <th>Sunshine</th>\n",
       "      <th>Pressure3pm</th>\n",
       "      <th>Cloud3pm</th>\n",
       "      <th>WindGustSpeed</th>\n",
       "      <th>Date</th>\n",
       "      <th>WindSpeed3pm</th>\n",
       "      <th>RainTomorrow</th>\n",
       "    </tr>\n",
       "  </thead>\n",
       "  <tbody>\n",
       "    <tr>\n",
       "      <th>0</th>\n",
       "      <td>22.0</td>\n",
       "      <td>0.6</td>\n",
       "      <td>NaN</td>\n",
       "      <td>1007.1</td>\n",
       "      <td>NaN</td>\n",
       "      <td>44.0</td>\n",
       "      <td>2008-12-01</td>\n",
       "      <td>24.0</td>\n",
       "      <td>No</td>\n",
       "    </tr>\n",
       "    <tr>\n",
       "      <th>1</th>\n",
       "      <td>25.0</td>\n",
       "      <td>0.0</td>\n",
       "      <td>NaN</td>\n",
       "      <td>1007.8</td>\n",
       "      <td>NaN</td>\n",
       "      <td>44.0</td>\n",
       "      <td>2008-12-02</td>\n",
       "      <td>22.0</td>\n",
       "      <td>No</td>\n",
       "    </tr>\n",
       "    <tr>\n",
       "      <th>2</th>\n",
       "      <td>30.0</td>\n",
       "      <td>0.0</td>\n",
       "      <td>NaN</td>\n",
       "      <td>1008.7</td>\n",
       "      <td>2.0</td>\n",
       "      <td>46.0</td>\n",
       "      <td>2008-12-03</td>\n",
       "      <td>26.0</td>\n",
       "      <td>No</td>\n",
       "    </tr>\n",
       "    <tr>\n",
       "      <th>3</th>\n",
       "      <td>16.0</td>\n",
       "      <td>0.0</td>\n",
       "      <td>NaN</td>\n",
       "      <td>1012.8</td>\n",
       "      <td>NaN</td>\n",
       "      <td>24.0</td>\n",
       "      <td>2008-12-04</td>\n",
       "      <td>9.0</td>\n",
       "      <td>No</td>\n",
       "    </tr>\n",
       "    <tr>\n",
       "      <th>4</th>\n",
       "      <td>33.0</td>\n",
       "      <td>1.0</td>\n",
       "      <td>NaN</td>\n",
       "      <td>1006.0</td>\n",
       "      <td>8.0</td>\n",
       "      <td>41.0</td>\n",
       "      <td>2008-12-05</td>\n",
       "      <td>20.0</td>\n",
       "      <td>No</td>\n",
       "    </tr>\n",
       "  </tbody>\n",
       "</table>\n",
       "</div>"
      ],
      "text/plain": [
       "   Humidity3pm  Rainfall  Sunshine  Pressure3pm  Cloud3pm  WindGustSpeed  \\\n",
       "0         22.0       0.6       NaN       1007.1       NaN           44.0   \n",
       "1         25.0       0.0       NaN       1007.8       NaN           44.0   \n",
       "2         30.0       0.0       NaN       1008.7       2.0           46.0   \n",
       "3         16.0       0.0       NaN       1012.8       NaN           24.0   \n",
       "4         33.0       1.0       NaN       1006.0       8.0           41.0   \n",
       "\n",
       "         Date  WindSpeed3pm RainTomorrow  \n",
       "0  2008-12-01          24.0           No  \n",
       "1  2008-12-02          22.0           No  \n",
       "2  2008-12-03          26.0           No  \n",
       "3  2008-12-04           9.0           No  \n",
       "4  2008-12-05          20.0           No  "
      ]
     },
     "execution_count": 21,
     "metadata": {},
     "output_type": "execute_result"
    }
   ],
   "source": [
    "thin_df = raw_df[valuable_cols]\n",
    "thin_df.head()"
   ]
  },
  {
   "cell_type": "code",
   "execution_count": 22,
   "metadata": {},
   "outputs": [
    {
     "name": "stderr",
     "output_type": "stream",
     "text": [
      "/Users/olgamordachova/PycharmProjects/portfolio/aussie/scripts/aussie_rain.py:87: FutureWarning: Downcasting behavior in `replace` is deprecated and will be removed in a future version. To retain the old behavior, explicitly call `result.infer_objects(copy=False)`. To opt-in to the future behavior, set `pd.set_option('future.no_silent_downcasting', True)`\n",
      "  data['RainTomorrow'] = data['RainTomorrow'].replace({'Yes': 1, 'No': 0})\n",
      "/Users/olgamordachova/PycharmProjects/pythonProject/.venv/lib/python3.9/site-packages/sklearn/impute/_iterative.py:825: ConvergenceWarning: [IterativeImputer] Early stopping criterion not reached.\n",
      "  warnings.warn(\n"
     ]
    }
   ],
   "source": [
    "data_thin = preprocess_data(thin_df, True)"
   ]
  },
  {
   "cell_type": "code",
   "execution_count": 23,
   "metadata": {},
   "outputs": [
    {
     "data": {
      "text/plain": [
       "array(['Humidity3pm', 'Rainfall', 'Sunshine', 'Pressure3pm', 'Cloud3pm',\n",
       "       'WindGustSpeed', 'WindSpeed3pm', 'month'], dtype=object)"
      ]
     },
     "execution_count": 23,
     "metadata": {},
     "output_type": "execute_result"
    }
   ],
   "source": [
    "data_thin['scalerObj'].feature_names_in_"
   ]
  },
  {
   "cell_type": "code",
   "execution_count": 24,
   "metadata": {},
   "outputs": [],
   "source": [
    "model_thin, train_score_thin, val_score_thin = trainModel(data_thin, max_leaf_nodes=38)"
   ]
  },
  {
   "cell_type": "code",
   "execution_count": 25,
   "metadata": {},
   "outputs": [
    {
     "name": "stdout",
     "output_type": "stream",
     "text": [
      "Train roc_auc_score 0.8014383811653055, \n",
      "Validation roc_auc_score 0.7627520759193358\n"
     ]
    }
   ],
   "source": [
    "print(f'Train roc_auc_score {train_score_thin}, \\nValidation roc_auc_score {val_score_thin}')"
   ]
  },
  {
   "cell_type": "markdown",
   "metadata": {},
   "source": [
    "На валілаційних даних трішки менша точність, проте для такої моделі користувачу не доведеться вводити 23 поля даних, що буде зручнішим в даному випадку, тому я використаю цю модель надалі"
   ]
  },
  {
   "cell_type": "code",
   "execution_count": 26,
   "metadata": {},
   "outputs": [
    {
     "data": {
      "text/plain": [
       "['model/aussie_rain_thin.joblib']"
      ]
     },
     "execution_count": 26,
     "metadata": {},
     "output_type": "execute_result"
    }
   ],
   "source": [
    "joblib.dump(model_thin, 'model/aussie_rain_thin.joblib')"
   ]
  },
  {
   "cell_type": "markdown",
   "metadata": {},
   "source": [
    "Отримання прогнозу на користувацьких даних"
   ]
  },
  {
   "cell_type": "code",
   "execution_count": 27,
   "metadata": {},
   "outputs": [],
   "source": [
    "user_cols = valuable_cols.copy()\n",
    "user_cols.remove('RainTomorrow')\n",
    "user_data = pd.DataFrame(np.array([[33, 0.6, 1009, 990, 7, 20, '2024-01-01', 17 ]]), columns = user_cols)"
   ]
  },
  {
   "cell_type": "code",
   "execution_count": 28,
   "metadata": {},
   "outputs": [
    {
     "data": {
      "text/plain": [
       "['model/add_data.joblib']"
      ]
     },
     "execution_count": 28,
     "metadata": {},
     "output_type": "execute_result"
    }
   ],
   "source": [
    "add_data = {\n",
    "    'scaler' : data_thin['scalerObj'],\n",
    "    'columns' : user_cols\n",
    "}\n",
    "joblib.dump(add_data, 'model/add_data.joblib')"
   ]
  },
  {
   "cell_type": "markdown",
   "metadata": {},
   "source": [
    "Робимо препроцессинг користувацьких даних"
   ]
  },
  {
   "cell_type": "code",
   "execution_count": 29,
   "metadata": {},
   "outputs": [],
   "source": [
    "user_data_preprocessed = preprocess_new_data(user_data, data_thin['scalerObj'])"
   ]
  },
  {
   "cell_type": "markdown",
   "metadata": {},
   "source": [
    "Робимо саме передбачення"
   ]
  },
  {
   "cell_type": "code",
   "execution_count": 30,
   "metadata": {},
   "outputs": [
    {
     "data": {
      "text/plain": [
       "array([[0.55027933, 0.44972067]])"
      ]
     },
     "execution_count": 30,
     "metadata": {},
     "output_type": "execute_result"
    }
   ],
   "source": [
    "model_thin.predict_proba(user_data_preprocessed)"
   ]
  }
 ],
 "metadata": {
  "kernelspec": {
   "display_name": ".venv",
   "language": "python",
   "name": "python3"
  },
  "language_info": {
   "codemirror_mode": {
    "name": "ipython",
    "version": 3
   },
   "file_extension": ".py",
   "mimetype": "text/x-python",
   "name": "python",
   "nbconvert_exporter": "python",
   "pygments_lexer": "ipython3",
   "version": "3.9.6"
  }
 },
 "nbformat": 4,
 "nbformat_minor": 2
}
